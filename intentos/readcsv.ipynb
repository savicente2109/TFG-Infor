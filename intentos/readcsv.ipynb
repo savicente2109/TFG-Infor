{
 "cells": [
  {
   "cell_type": "code",
   "execution_count": 45,
   "metadata": {},
   "outputs": [],
   "source": [
    "import numpy as np\n",
    "import csv"
   ]
  },
  {
   "cell_type": "code",
   "execution_count": 46,
   "metadata": {},
   "outputs": [
    {
     "name": "stdout",
     "output_type": "stream",
     "text": [
      "16\n",
      "16\n",
      "16\n",
      "16\n",
      "16\n",
      "16\n",
      "16\n",
      "16\n",
      "16\n",
      "16\n",
      "16\n",
      "17\n",
      "16\n",
      "16\n",
      "17\n",
      "17\n",
      "16\n",
      "16\n",
      "17\n",
      "17\n"
     ]
    }
   ],
   "source": [
    "PSO = []\n",
    "with open(r\"..\\results\\enzymes\\PSO.csv\", newline='\\n') as csvfile:\n",
    "    spamreader = csv.reader(csvfile, quotechar='|')\n",
    "    i = 0\n",
    "    for row in spamreader:\n",
    "        if i%2 == 1:\n",
    "            print(row[-1])\n",
    "            PSO.append(row[-1])\n",
    "        i=i+1"
   ]
  },
  {
   "cell_type": "code",
   "execution_count": 47,
   "metadata": {},
   "outputs": [
    {
     "name": "stdout",
     "output_type": "stream",
     "text": [
      "17\n",
      "17\n",
      "17\n",
      "17\n",
      "17\n",
      "17\n",
      "17\n",
      "17\n",
      "17\n",
      "17\n",
      "17\n",
      "17\n",
      "17\n",
      "17\n",
      "17\n",
      "17\n",
      "17\n",
      "17\n",
      "17\n",
      "17\n"
     ]
    }
   ],
   "source": [
    "GA = []\n",
    "with open(r\"..\\results\\enzymes\\GA.csv\", newline='\\n') as csvfile:\n",
    "    spamreader = csv.reader(csvfile, quotechar='|')\n",
    "    i = 0\n",
    "    for row in spamreader:\n",
    "        if i%2 == 1:\n",
    "            print(row[-1])\n",
    "            GA.append(row[-1])\n",
    "        i=i+1"
   ]
  },
  {
   "cell_type": "code",
   "execution_count": 48,
   "metadata": {},
   "outputs": [
    {
     "name": "stdout",
     "output_type": "stream",
     "text": [
      "16\n",
      "16\n",
      "16\n",
      "16\n",
      "16\n",
      "16\n",
      "16\n",
      "17\n",
      "16\n",
      "16\n",
      "16\n",
      "15\n",
      "16\n",
      "16\n",
      "16\n",
      "16\n",
      "16\n",
      "16\n",
      "16\n",
      "16\n",
      "16\n",
      "16\n",
      "16\n",
      "16\n",
      "16\n",
      "16\n",
      "15\n",
      "16\n",
      "16\n",
      "16\n",
      "16\n",
      "16\n",
      "16\n",
      "17\n",
      "16\n",
      "16\n",
      "16\n",
      "16\n",
      "16\n",
      "15\n",
      "16\n",
      "16\n",
      "16\n",
      "16\n",
      "16\n",
      "16\n",
      "16\n",
      "16\n",
      "16\n",
      "16\n",
      "16\n",
      "16\n",
      "16\n",
      "16\n",
      "16\n",
      "16\n",
      "16\n",
      "16\n",
      "16\n",
      "16\n"
     ]
    }
   ],
   "source": [
    "PSO_gen = []\n",
    "GA_gen = []\n",
    "hib_gen = []\n",
    "with open(r\"..\\results\\enzymes\\medias_ponderadas_PSO.csv\", newline='\\n') as csvfile:\n",
    "    spamreader = csv.reader(csvfile, quotechar='|')\n",
    "    for row in spamreader:\n",
    "        print(row[-1])\n",
    "        PSO_gen.append(row[-1])\n",
    "with open(r\"..\\results\\enzymes\\medias_ponderadas_GA.csv\", newline='\\n') as csvfile:\n",
    "    spamreader = csv.reader(csvfile, quotechar='|')\n",
    "    for row in spamreader:\n",
    "        print(row[-1])\n",
    "        GA_gen.append(row[-1])\n",
    "with open(r\"..\\results\\enzymes\\medias_ponderadas_hib.csv\", newline='\\n') as csvfile:\n",
    "    spamreader = csv.reader(csvfile, quotechar='|')\n",
    "    for row in spamreader:\n",
    "        print(row[-1])\n",
    "        hib_gen.append(row[-1])"
   ]
  },
  {
   "cell_type": "code",
   "execution_count": 49,
   "metadata": {},
   "outputs": [
    {
     "name": "stdout",
     "output_type": "stream",
     "text": [
      "['16', '16', '16', '16', '16', '16', '16', '16', '16', '16', '16', '17', '16', '16', '17', '17', '16', '16', '17', '17']\n",
      "['17', '17', '17', '17', '17', '17', '17', '17', '17', '17', '17', '17', '17', '17', '17', '17', '17', '17', '17', '17']\n",
      "['16', '16', '16', '16', '16', '16', '16', '17', '16', '16', '16', '15', '16', '16', '16', '16', '16', '16', '16', '16']\n",
      "['16', '16', '16', '16', '16', '16', '15', '16', '16', '16', '16', '16', '16', '17', '16', '16', '16', '16', '16', '15']\n",
      "['16', '16', '16', '16', '16', '16', '16', '16', '16', '16', '16', '16', '16', '16', '16', '16', '16', '16', '16', '16']\n"
     ]
    }
   ],
   "source": [
    "print(PSO)\n",
    "print(GA)\n",
    "print(PSO_gen)\n",
    "print(GA_gen)\n",
    "print(hib_gen)"
   ]
  },
  {
   "cell_type": "code",
   "execution_count": 50,
   "metadata": {},
   "outputs": [],
   "source": [
    "with open(r'..\\test_param_enzymes.csv', 'w', newline='') as csvfile:\n",
    "    spamwriter = csv.writer(csvfile,\n",
    "                            quotechar='|', quoting=csv.QUOTE_MINIMAL)\n",
    "    for ejec in range(20):\n",
    "        spamwriter.writerow([f'E{ejec}', f'-{GA[ejec]}', f'-{PSO[ejec]}', f'-{GA_gen[ejec]}', f'-{PSO_gen[ejec]}', f'-{hib_gen[ejec]}'])\n",
    "        #print(f\"E{ejec},{GA[ejec]},{PSO[ejec]},{GA_gen[ejec]},{PSO_gen[ejec]},{hib_gen[ejec]}\")\n",
    "csvfile.close()"
   ]
  }
 ],
 "metadata": {
  "kernelspec": {
   "display_name": "Python 3",
   "language": "python",
   "name": "python3"
  },
  "language_info": {
   "codemirror_mode": {
    "name": "ipython",
    "version": 3
   },
   "file_extension": ".py",
   "mimetype": "text/x-python",
   "name": "python",
   "nbconvert_exporter": "python",
   "pygments_lexer": "ipython3",
   "version": "3.9.7"
  }
 },
 "nbformat": 4,
 "nbformat_minor": 2
}
