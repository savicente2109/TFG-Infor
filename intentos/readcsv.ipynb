{
 "cells": [
  {
   "cell_type": "code",
   "execution_count": 1,
   "metadata": {},
   "outputs": [],
   "source": [
    "import numpy as np\n",
    "import csv"
   ]
  },
  {
   "cell_type": "code",
   "execution_count": 7,
   "metadata": {},
   "outputs": [],
   "source": [
    "name = \"sparrowlyon\""
   ]
  },
  {
   "cell_type": "code",
   "execution_count": 2,
   "metadata": {},
   "outputs": [
    {
     "name": "stdout",
     "output_type": "stream",
     "text": [
      "18208\n",
      "18108\n",
      "18366\n",
      "18224\n",
      "17866\n",
      "18359\n",
      "18077\n",
      "17775\n",
      "18351\n",
      "18174\n",
      "18570\n",
      "18454\n",
      "18298\n",
      "18798\n",
      "17787\n",
      "17894\n",
      "18281\n",
      "18441\n",
      "17964\n",
      "18327\n"
     ]
    }
   ],
   "source": [
    "PSO = []\n",
    "with open(r\"..\\results\\kn3\\PSO.csv\", newline='\\n') as csvfile:\n",
    "    spamreader = csv.reader(csvfile, quotechar='|')\n",
    "    i = 0\n",
    "    for row in spamreader:\n",
    "        if i%2 == 1:\n",
    "            print(row[-1])\n",
    "            PSO.append(row[-1])\n",
    "        i=i+1"
   ]
  },
  {
   "cell_type": "code",
   "execution_count": 3,
   "metadata": {},
   "outputs": [
    {
     "name": "stdout",
     "output_type": "stream",
     "text": [
      "19450\n",
      "19547\n",
      "19651\n",
      "19691\n",
      "19513\n",
      "19609\n",
      "19640\n",
      "19691\n",
      "19605\n",
      "19684\n",
      "19736\n",
      "19596\n",
      "19571\n",
      "19530\n",
      "19574\n",
      "19487\n",
      "19523\n",
      "19677\n",
      "19581\n",
      "19709\n"
     ]
    }
   ],
   "source": [
    "GA = []\n",
    "with open(r\"..\\results\\kn3\\GA.csv\", newline='\\n') as csvfile:\n",
    "    spamreader = csv.reader(csvfile, quotechar='|')\n",
    "    i = 0\n",
    "    for row in spamreader:\n",
    "        if i%2 == 1:\n",
    "            print(row[-1])\n",
    "            GA.append(row[-1])\n",
    "        i=i+1"
   ]
  },
  {
   "cell_type": "code",
   "execution_count": 5,
   "metadata": {},
   "outputs": [
    {
     "name": "stdout",
     "output_type": "stream",
     "text": [
      "18568\n",
      "17764\n",
      "17846\n",
      "18375\n",
      "17973\n",
      "17972\n",
      "17949\n",
      "18517\n",
      "18079\n",
      "18090\n",
      "17727\n",
      "17905\n",
      "18167\n",
      "17794\n",
      "17695\n",
      "18283\n",
      "17674\n",
      "18353\n",
      "17884\n",
      "17831\n",
      "17751\n",
      "17839\n",
      "17957\n",
      "17847\n",
      "17626\n",
      "17707\n",
      "18171\n",
      "17900\n",
      "17891\n",
      "18013\n",
      "17881\n",
      "18021\n",
      "17987\n",
      "18057\n",
      "17896\n",
      "17808\n",
      "17455\n",
      "17795\n",
      "17779\n",
      "17700\n",
      "18190\n",
      "18595\n",
      "18039\n",
      "17925\n",
      "17828\n",
      "18088\n",
      "18247\n",
      "17565\n",
      "17991\n",
      "18674\n",
      "18261\n",
      "18065\n",
      "18127\n",
      "17869\n",
      "18009\n",
      "17624\n",
      "17904\n",
      "17763\n",
      "17937\n",
      "17799\n",
      "17589\n",
      "17794\n",
      "17902\n",
      "17738\n",
      "17868\n",
      "17855\n",
      "17653\n",
      "17814\n",
      "17783\n",
      "17840\n",
      "17671\n",
      "18045\n",
      "17866\n",
      "17806\n",
      "17676\n",
      "17980\n",
      "17584\n",
      "17886\n",
      "18080\n",
      "17972\n"
     ]
    }
   ],
   "source": [
    "PSO_gen = []\n",
    "GA_gen = []\n",
    "hib_gen = []\n",
    "ACO_gen = []\n",
    "with open(r\"..\\results\\kn3\\medias_ponderadas_PSO.csv\", newline='\\n') as csvfile:\n",
    "    spamreader = csv.reader(csvfile, quotechar='|')\n",
    "    for row in spamreader:\n",
    "        print(row[-1])\n",
    "        PSO_gen.append(row[-1])\n",
    "with open(r\"..\\results\\kn3\\medias_ponderadas_GA.csv\", newline='\\n') as csvfile:\n",
    "    spamreader = csv.reader(csvfile, quotechar='|')\n",
    "    for row in spamreader:\n",
    "        print(row[-1])\n",
    "        GA_gen.append(row[-1])\n",
    "with open(r\"..\\results\\kn3\\medias_ponderadas_hib.csv\", newline='\\n') as csvfile:\n",
    "    spamreader = csv.reader(csvfile, quotechar='|')\n",
    "    for row in spamreader:\n",
    "        print(row[-1])\n",
    "        hib_gen.append(row[-1])\n",
    "with open(r\"..\\results\\kn3\\medias_ponderadas_ACO.csv\", newline='\\n') as csvfile:\n",
    "    spamreader = csv.reader(csvfile, quotechar='|')\n",
    "    for row in spamreader:\n",
    "        print(row[-1])\n",
    "        ACO_gen.append(row[-1])"
   ]
  },
  {
   "cell_type": "code",
   "execution_count": 11,
   "metadata": {},
   "outputs": [
    {
     "name": "stdout",
     "output_type": "stream",
     "text": [
      "['11', '11', '11', '11', '11', '11', '10', '11', '11', '12', '11', '11', '10', '10', '11', '10', '11', '10', '10', '11']\n",
      "['12', '12', '12', '12', '12', '12', '12', '12', '12', '12', '12', '12', '12', '12', '12', '12', '12', '12', '12', '12']\n",
      "['11', '11', '11', '11', '10', '10', '10', '11', '11', '11', '10', '11', '11', '11', '10', '11', '11', '11', '11', '10']\n",
      "['11', '11', '10', '10', '10', '10', '10', '10', '10', '10', '11', '11', '10', '11', '11', '11', '10', '11', '11', '10']\n",
      "['11', '11', '10', '11', '11', '10', '11', '10', '11', '11', '11', '10', '10', '10', '10', '10', '10', '10', '10', '10']\n"
     ]
    }
   ],
   "source": [
    "print(PSO)\n",
    "print(GA)\n",
    "print(PSO_gen)\n",
    "print(GA_gen)\n",
    "print(hib_gen)"
   ]
  },
  {
   "cell_type": "code",
   "execution_count": 7,
   "metadata": {},
   "outputs": [],
   "source": [
    "#with open(r'..\\results_latex\\kn3.csv', 'w', newline='') as csvfile:\n",
    "with open(r'..\\results_tests_no_param\\kn3.csv', 'w', newline='') as csvfile:\n",
    "    spamwriter = csv.writer(csvfile,\n",
    "                            quotechar='|', quoting=csv.QUOTE_MINIMAL)\n",
    "    spamwriter.writerow([\"Ejecucion\", \"GA\", \"PSO\", \"AEMP-GA\", \"AEMP-PSO\", \"AEMP-HIB\", \"AEMP-ACO\"])\n",
    "    for ejec in range(20):\n",
    "        spamwriter.writerow([f'E{ejec + 1}', f'-{GA[ejec]}', f'-{PSO[ejec]}', f'-{GA_gen[ejec]}', f'-{PSO_gen[ejec]}', f'-{hib_gen[ejec]}', f'-{ACO_gen[ejec]}'])\n",
    "        #spamwriter.writerow([f'{ejec + 1}', f'{GA[ejec]}', f'{PSO[ejec]}', f'{GA_gen[ejec]}', f'{PSO_gen[ejec]}', f'{hib_gen[ejec]}', f'{ACO_gen[ejec]}'])\n",
    "        #print(f\"E{ejec},{GA[ejec]},{PSO[ejec]},{GA_gen[ejec]},{PSO_gen[ejec]},{hib_gen[ejec]}\")\n",
    "csvfile.close()"
   ]
  }
 ],
 "metadata": {
  "kernelspec": {
   "display_name": "Python 3",
   "language": "python",
   "name": "python3"
  },
  "language_info": {
   "codemirror_mode": {
    "name": "ipython",
    "version": 3
   },
   "file_extension": ".py",
   "mimetype": "text/x-python",
   "name": "python",
   "nbconvert_exporter": "python",
   "pygments_lexer": "ipython3",
   "version": "3.9.7"
  }
 },
 "nbformat": 4,
 "nbformat_minor": 2
}
