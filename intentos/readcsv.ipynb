{
 "cells": [
  {
   "cell_type": "code",
   "execution_count": 1,
   "metadata": {},
   "outputs": [],
   "source": [
    "import numpy as np\n",
    "import csv"
   ]
  },
  {
   "cell_type": "code",
   "execution_count": 7,
   "metadata": {},
   "outputs": [],
   "source": [
    "name = \"sparrowlyon\""
   ]
  },
  {
   "cell_type": "code",
   "execution_count": 2,
   "metadata": {},
   "outputs": [
    {
     "name": "stdout",
     "output_type": "stream",
     "text": [
      "19213\n",
      "19250\n",
      "19318\n",
      "19185\n",
      "19711\n",
      "19602\n",
      "19418\n",
      "19865\n",
      "19678\n",
      "19824\n",
      "19396\n",
      "19290\n",
      "19148\n",
      "20403\n",
      "19365\n",
      "19479\n",
      "19427\n",
      "20056\n",
      "19483\n",
      "19609\n"
     ]
    }
   ],
   "source": [
    "PSO = []\n",
    "with open(r\"..\\results\\kn0\\PSO.csv\", newline='\\n') as csvfile:\n",
    "    spamreader = csv.reader(csvfile, quotechar='|')\n",
    "    i = 0\n",
    "    for row in spamreader:\n",
    "        if i%2 == 1:\n",
    "            print(row[-1])\n",
    "            PSO.append(row[-1])\n",
    "        i=i+1"
   ]
  },
  {
   "cell_type": "code",
   "execution_count": 3,
   "metadata": {},
   "outputs": [
    {
     "name": "stdout",
     "output_type": "stream",
     "text": [
      "20783\n",
      "20716\n",
      "20776\n",
      "20806\n",
      "20877\n",
      "20741\n",
      "20936\n",
      "20817\n",
      "20884\n",
      "20842\n",
      "20768\n",
      "20723\n",
      "20612\n",
      "20653\n",
      "20984\n",
      "20864\n",
      "20583\n",
      "20842\n",
      "20831\n",
      "20723\n"
     ]
    }
   ],
   "source": [
    "GA = []\n",
    "with open(r\"..\\results\\kn0\\GA.csv\", newline='\\n') as csvfile:\n",
    "    spamreader = csv.reader(csvfile, quotechar='|')\n",
    "    i = 0\n",
    "    for row in spamreader:\n",
    "        if i%2 == 1:\n",
    "            print(row[-1])\n",
    "            GA.append(row[-1])\n",
    "        i=i+1"
   ]
  },
  {
   "cell_type": "code",
   "execution_count": 4,
   "metadata": {},
   "outputs": [
    {
     "name": "stdout",
     "output_type": "stream",
     "text": [
      "19176\n",
      "19121\n",
      "18976\n",
      "19601\n",
      "19535\n",
      "19418\n",
      "19320\n",
      "19308\n",
      "18929\n",
      "19097\n",
      "18848\n",
      "19168\n",
      "18955\n",
      "18988\n",
      "18679\n",
      "18937\n",
      "18978\n",
      "19487\n",
      "19167\n",
      "19060\n",
      "18931\n",
      "19042\n",
      "19204\n",
      "19110\n",
      "19098\n",
      "19025\n",
      "19277\n",
      "18819\n",
      "19079\n",
      "18846\n",
      "19490\n",
      "19106\n",
      "19107\n",
      "18927\n",
      "19186\n",
      "19609\n",
      "18762\n",
      "18884\n",
      "19085\n",
      "19452\n",
      "19076\n",
      "18888\n",
      "19003\n",
      "19220\n",
      "18993\n",
      "19693\n",
      "18798\n",
      "19239\n",
      "19213\n",
      "18923\n",
      "18896\n",
      "19291\n",
      "19113\n",
      "19147\n",
      "19202\n",
      "19001\n",
      "18897\n",
      "19485\n",
      "19262\n",
      "19018\n",
      "18703\n",
      "19218\n",
      "19550\n",
      "18974\n",
      "19007\n",
      "18779\n",
      "19433\n",
      "18836\n",
      "19133\n",
      "18930\n",
      "19144\n",
      "18743\n",
      "19274\n",
      "19146\n",
      "19040\n",
      "19118\n",
      "19093\n",
      "19426\n",
      "18877\n",
      "18987\n"
     ]
    }
   ],
   "source": [
    "PSO_gen = []\n",
    "GA_gen = []\n",
    "hib_gen = []\n",
    "ACO_gen = []\n",
    "with open(r\"..\\results\\kn0\\medias_ponderadas_PSO.csv\", newline='\\n') as csvfile:\n",
    "    spamreader = csv.reader(csvfile, quotechar='|')\n",
    "    for row in spamreader:\n",
    "        print(row[-1])\n",
    "        PSO_gen.append(row[-1])\n",
    "with open(r\"..\\results\\kn0\\medias_ponderadas_GA.csv\", newline='\\n') as csvfile:\n",
    "    spamreader = csv.reader(csvfile, quotechar='|')\n",
    "    for row in spamreader:\n",
    "        print(row[-1])\n",
    "        GA_gen.append(row[-1])\n",
    "with open(r\"..\\results\\kn0\\medias_ponderadas_hib.csv\", newline='\\n') as csvfile:\n",
    "    spamreader = csv.reader(csvfile, quotechar='|')\n",
    "    for row in spamreader:\n",
    "        print(row[-1])\n",
    "        hib_gen.append(row[-1])\n",
    "with open(r\"..\\results\\kn0\\medias_ponderadas_ACO.csv\", newline='\\n') as csvfile:\n",
    "    spamreader = csv.reader(csvfile, quotechar='|')\n",
    "    for row in spamreader:\n",
    "        print(row[-1])\n",
    "        ACO_gen.append(row[-1])"
   ]
  },
  {
   "cell_type": "code",
   "execution_count": 11,
   "metadata": {},
   "outputs": [
    {
     "name": "stdout",
     "output_type": "stream",
     "text": [
      "['11', '11', '11', '11', '11', '11', '10', '11', '11', '12', '11', '11', '10', '10', '11', '10', '11', '10', '10', '11']\n",
      "['12', '12', '12', '12', '12', '12', '12', '12', '12', '12', '12', '12', '12', '12', '12', '12', '12', '12', '12', '12']\n",
      "['11', '11', '11', '11', '10', '10', '10', '11', '11', '11', '10', '11', '11', '11', '10', '11', '11', '11', '11', '10']\n",
      "['11', '11', '10', '10', '10', '10', '10', '10', '10', '10', '11', '11', '10', '11', '11', '11', '10', '11', '11', '10']\n",
      "['11', '11', '10', '11', '11', '10', '11', '10', '11', '11', '11', '10', '10', '10', '10', '10', '10', '10', '10', '10']\n"
     ]
    }
   ],
   "source": [
    "print(PSO)\n",
    "print(GA)\n",
    "print(PSO_gen)\n",
    "print(GA_gen)\n",
    "print(hib_gen)"
   ]
  },
  {
   "cell_type": "code",
   "execution_count": 6,
   "metadata": {},
   "outputs": [],
   "source": [
    "with open(r'..\\results_latex\\kn0.csv', 'w', newline='') as csvfile:\n",
    "#with open(r'..\\results_tests_no_param\\kn0.csv', 'w', newline='') as csvfile:\n",
    "    spamwriter = csv.writer(csvfile,\n",
    "                            quotechar='|', quoting=csv.QUOTE_MINIMAL)\n",
    "    spamwriter.writerow([\"Ejecucion\", \"GA\", \"PSO\", \"AEMP-GA\", \"AEMP-PSO\", \"AEMP-HIB\", \"AEMP-ACO\"])\n",
    "    for ejec in range(20):\n",
    "        #spamwriter.writerow([f'E{ejec + 1}', f'-{GA[ejec]}', f'-{PSO[ejec]}', f'-{GA_gen[ejec]}', f'-{PSO_gen[ejec]}', f'-{hib_gen[ejec]}', f'-{ACO_gen[ejec]}'])\n",
    "        spamwriter.writerow([f'{ejec + 1}', f'{GA[ejec]}', f'{PSO[ejec]}', f'{GA_gen[ejec]}', f'{PSO_gen[ejec]}', f'{hib_gen[ejec]}', f'{ACO_gen[ejec]}'])\n",
    "        #print(f\"E{ejec},{GA[ejec]},{PSO[ejec]},{GA_gen[ejec]},{PSO_gen[ejec]},{hib_gen[ejec]}\")\n",
    "csvfile.close()"
   ]
  }
 ],
 "metadata": {
  "kernelspec": {
   "display_name": "Python 3",
   "language": "python",
   "name": "python3"
  },
  "language_info": {
   "codemirror_mode": {
    "name": "ipython",
    "version": 3
   },
   "file_extension": ".py",
   "mimetype": "text/x-python",
   "name": "python",
   "nbconvert_exporter": "python",
   "pygments_lexer": "ipython3",
   "version": "3.9.7"
  }
 },
 "nbformat": 4,
 "nbformat_minor": 2
}
