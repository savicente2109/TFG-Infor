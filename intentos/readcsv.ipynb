{
 "cells": [
  {
   "cell_type": "code",
   "execution_count": 13,
   "metadata": {},
   "outputs": [],
   "source": [
    "import numpy as np\n",
    "import csv"
   ]
  },
  {
   "cell_type": "code",
   "execution_count": 7,
   "metadata": {},
   "outputs": [],
   "source": [
    "name = \"sparrowlyon\""
   ]
  },
  {
   "cell_type": "code",
   "execution_count": 14,
   "metadata": {},
   "outputs": [
    {
     "name": "stdout",
     "output_type": "stream",
     "text": [
      "19402\n",
      "19139\n",
      "19562\n",
      "19282\n",
      "19246\n",
      "18992\n",
      "19227\n",
      "19122\n",
      "19483\n",
      "19188\n",
      "19057\n",
      "18848\n",
      "18862\n",
      "19165\n",
      "19158\n",
      "18847\n",
      "19293\n",
      "18945\n",
      "18735\n",
      "19128\n"
     ]
    }
   ],
   "source": [
    "PSO = []\n",
    "with open(r\"..\\results\\kn2\\PSO.csv\", newline='\\n') as csvfile:\n",
    "    spamreader = csv.reader(csvfile, quotechar='|')\n",
    "    i = 0\n",
    "    for row in spamreader:\n",
    "        if i%2 == 1:\n",
    "            print(row[-1])\n",
    "            PSO.append(row[-1])\n",
    "        i=i+1"
   ]
  },
  {
   "cell_type": "code",
   "execution_count": 15,
   "metadata": {},
   "outputs": [
    {
     "name": "stdout",
     "output_type": "stream",
     "text": [
      "20370\n",
      "20339\n",
      "20360\n",
      "20243\n",
      "20382\n",
      "20127\n",
      "20285\n",
      "20390\n",
      "20471\n",
      "20419\n",
      "20371\n",
      "20436\n",
      "20410\n",
      "20361\n",
      "20553\n",
      "20317\n",
      "20373\n",
      "20401\n",
      "20507\n",
      "20507\n"
     ]
    }
   ],
   "source": [
    "GA = []\n",
    "with open(r\"..\\results\\kn2\\GA.csv\", newline='\\n') as csvfile:\n",
    "    spamreader = csv.reader(csvfile, quotechar='|')\n",
    "    i = 0\n",
    "    for row in spamreader:\n",
    "        if i%2 == 1:\n",
    "            print(row[-1])\n",
    "            GA.append(row[-1])\n",
    "        i=i+1"
   ]
  },
  {
   "cell_type": "code",
   "execution_count": 16,
   "metadata": {},
   "outputs": [
    {
     "name": "stdout",
     "output_type": "stream",
     "text": [
      "18457\n",
      "18558\n",
      "18506\n",
      "18986\n",
      "18681\n",
      "18549\n",
      "18641\n",
      "18469\n",
      "18845\n",
      "18743\n",
      "18390\n",
      "18584\n",
      "18800\n",
      "18452\n",
      "18688\n",
      "18597\n",
      "18774\n",
      "18612\n",
      "18672\n",
      "19265\n",
      "18960\n",
      "18640\n",
      "18959\n",
      "18821\n",
      "18553\n",
      "18720\n",
      "19003\n",
      "18780\n",
      "18599\n",
      "18743\n",
      "18637\n",
      "18980\n",
      "18503\n",
      "19001\n",
      "18903\n",
      "18816\n",
      "19093\n",
      "18842\n",
      "18586\n",
      "18781\n",
      "18555\n",
      "18611\n",
      "18814\n",
      "18795\n",
      "18608\n",
      "18483\n",
      "18549\n",
      "18621\n",
      "18496\n",
      "18937\n",
      "18822\n",
      "18778\n",
      "18755\n",
      "18819\n",
      "18448\n",
      "18505\n",
      "18563\n",
      "18778\n",
      "18603\n",
      "18672\n",
      "18732\n",
      "18221\n",
      "18779\n",
      "18740\n",
      "18509\n",
      "18563\n",
      "18414\n",
      "18823\n",
      "18595\n",
      "18739\n",
      "18587\n",
      "19034\n",
      "18782\n",
      "18834\n",
      "18539\n",
      "18721\n",
      "18695\n",
      "18754\n",
      "18520\n",
      "19125\n"
     ]
    }
   ],
   "source": [
    "PSO_gen = []\n",
    "GA_gen = []\n",
    "hib_gen = []\n",
    "ACO_gen = []\n",
    "with open(r\"..\\results\\kn2\\medias_ponderadas_PSO.csv\", newline='\\n') as csvfile:\n",
    "    spamreader = csv.reader(csvfile, quotechar='|')\n",
    "    for row in spamreader:\n",
    "        print(row[-1])\n",
    "        PSO_gen.append(row[-1])\n",
    "with open(r\"..\\results\\kn2\\medias_ponderadas_GA.csv\", newline='\\n') as csvfile:\n",
    "    spamreader = csv.reader(csvfile, quotechar='|')\n",
    "    for row in spamreader:\n",
    "        print(row[-1])\n",
    "        GA_gen.append(row[-1])\n",
    "with open(r\"..\\results\\kn2\\medias_ponderadas_hib.csv\", newline='\\n') as csvfile:\n",
    "    spamreader = csv.reader(csvfile, quotechar='|')\n",
    "    for row in spamreader:\n",
    "        print(row[-1])\n",
    "        hib_gen.append(row[-1])\n",
    "with open(r\"..\\results\\kn2\\medias_ponderadas_ACO.csv\", newline='\\n') as csvfile:\n",
    "    spamreader = csv.reader(csvfile, quotechar='|')\n",
    "    for row in spamreader:\n",
    "        print(row[-1])\n",
    "        ACO_gen.append(row[-1])"
   ]
  },
  {
   "cell_type": "code",
   "execution_count": 11,
   "metadata": {},
   "outputs": [
    {
     "name": "stdout",
     "output_type": "stream",
     "text": [
      "['11', '11', '11', '11', '11', '11', '10', '11', '11', '12', '11', '11', '10', '10', '11', '10', '11', '10', '10', '11']\n",
      "['12', '12', '12', '12', '12', '12', '12', '12', '12', '12', '12', '12', '12', '12', '12', '12', '12', '12', '12', '12']\n",
      "['11', '11', '11', '11', '10', '10', '10', '11', '11', '11', '10', '11', '11', '11', '10', '11', '11', '11', '11', '10']\n",
      "['11', '11', '10', '10', '10', '10', '10', '10', '10', '10', '11', '11', '10', '11', '11', '11', '10', '11', '11', '10']\n",
      "['11', '11', '10', '11', '11', '10', '11', '10', '11', '11', '11', '10', '10', '10', '10', '10', '10', '10', '10', '10']\n"
     ]
    }
   ],
   "source": [
    "print(PSO)\n",
    "print(GA)\n",
    "print(PSO_gen)\n",
    "print(GA_gen)\n",
    "print(hib_gen)"
   ]
  },
  {
   "cell_type": "code",
   "execution_count": 18,
   "metadata": {},
   "outputs": [],
   "source": [
    "with open(r'..\\results_latex\\kn2.csv', 'w', newline='') as csvfile:\n",
    "#with open(r'..\\results_tests_no_param\\kn2.csv', 'w', newline='') as csvfile:\n",
    "    spamwriter = csv.writer(csvfile,\n",
    "                            quotechar='|', quoting=csv.QUOTE_MINIMAL)\n",
    "    spamwriter.writerow([\"Ejecucion\", \"GA\", \"PSO\", \"AEMP-GA\", \"AEMP-PSO\", \"AEMP-HIB\", \"AEMP-ACO\"])\n",
    "    for ejec in range(20):\n",
    "        #spamwriter.writerow([f'E{ejec + 1}', f'-{GA[ejec]}', f'-{PSO[ejec]}', f'-{GA_gen[ejec]}', f'-{PSO_gen[ejec]}', f'-{hib_gen[ejec]}', f'-{ACO_gen[ejec]}'])\n",
    "        spamwriter.writerow([f'{ejec + 1}', f'{GA[ejec]}', f'{PSO[ejec]}', f'{GA_gen[ejec]}', f'{PSO_gen[ejec]}', f'{hib_gen[ejec]}', f'{ACO_gen[ejec]}'])\n",
    "        #print(f\"E{ejec},{GA[ejec]},{PSO[ejec]},{GA_gen[ejec]},{PSO_gen[ejec]},{hib_gen[ejec]}\")\n",
    "csvfile.close()"
   ]
  }
 ],
 "metadata": {
  "kernelspec": {
   "display_name": "Python 3",
   "language": "python",
   "name": "python3"
  },
  "language_info": {
   "codemirror_mode": {
    "name": "ipython",
    "version": 3
   },
   "file_extension": ".py",
   "mimetype": "text/x-python",
   "name": "python",
   "nbconvert_exporter": "python",
   "pygments_lexer": "ipython3",
   "version": "3.9.7"
  }
 },
 "nbformat": 4,
 "nbformat_minor": 2
}
