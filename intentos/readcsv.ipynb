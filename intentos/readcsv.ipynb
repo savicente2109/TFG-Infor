{
 "cells": [
  {
   "cell_type": "code",
   "execution_count": 46,
   "metadata": {},
   "outputs": [],
   "source": [
    "import numpy as np\n",
    "import csv"
   ]
  },
  {
   "cell_type": "code",
   "execution_count": 47,
   "metadata": {},
   "outputs": [],
   "source": [
    "name = \"sparrowlyon\""
   ]
  },
  {
   "cell_type": "code",
   "execution_count": 48,
   "metadata": {},
   "outputs": [
    {
     "name": "stdout",
     "output_type": "stream",
     "text": [
      "18062\n",
      "17951\n",
      "17556\n",
      "17682\n",
      "17862\n",
      "17850\n",
      "17991\n",
      "17604\n",
      "18464\n",
      "17537\n",
      "18098\n",
      "17940\n",
      "17637\n",
      "17508\n",
      "17613\n",
      "17703\n",
      "17555\n",
      "17769\n",
      "18041\n",
      "17717\n"
     ]
    }
   ],
   "source": [
    "PSO = []\n",
    "with open(r\"..\\results\\kn1\\PSO.csv\", newline='\\n') as csvfile:\n",
    "    spamreader = csv.reader(csvfile, quotechar='|')\n",
    "    i = 0\n",
    "    for row in spamreader:\n",
    "        if i%2 == 1:\n",
    "            print(row[-1])\n",
    "            PSO.append(row[-1])\n",
    "        i=i+1"
   ]
  },
  {
   "cell_type": "code",
   "execution_count": 49,
   "metadata": {},
   "outputs": [
    {
     "name": "stdout",
     "output_type": "stream",
     "text": [
      "19459\n",
      "19441\n",
      "19471\n",
      "19599\n",
      "19604\n",
      "19411\n",
      "19537\n",
      "19836\n",
      "19511\n",
      "19676\n",
      "19496\n",
      "19432\n",
      "19422\n",
      "19836\n",
      "19548\n",
      "19809\n",
      "19836\n",
      "19334\n",
      "19666\n",
      "19376\n"
     ]
    }
   ],
   "source": [
    "GA = []\n",
    "with open(r\"..\\results\\kn1\\GA.csv\", newline='\\n') as csvfile:\n",
    "    spamreader = csv.reader(csvfile, quotechar='|')\n",
    "    i = 0\n",
    "    for row in spamreader:\n",
    "        if i%2 == 1:\n",
    "            print(row[-1])\n",
    "            GA.append(row[-1])\n",
    "        i=i+1"
   ]
  },
  {
   "cell_type": "code",
   "execution_count": 50,
   "metadata": {},
   "outputs": [
    {
     "name": "stdout",
     "output_type": "stream",
     "text": [
      "17020\n",
      "17219\n",
      "17449\n",
      "17039\n",
      "16860\n",
      "17169\n",
      "17226\n",
      "17114\n",
      "17257\n",
      "17490\n",
      "17197\n",
      "17543\n",
      "17596\n",
      "17387\n",
      "17535\n",
      "17361\n",
      "17840\n",
      "18293\n",
      "18387\n",
      "17295\n",
      "17460\n",
      "17046\n",
      "17274\n",
      "17612\n",
      "17270\n",
      "17613\n",
      "16990\n",
      "17368\n",
      "17386\n",
      "17145\n",
      "17486\n",
      "17392\n",
      "17248\n",
      "17112\n",
      "17353\n",
      "17524\n",
      "17149\n",
      "17172\n",
      "17244\n",
      "17274\n",
      "17490\n",
      "17738\n",
      "17557\n",
      "17201\n",
      "17349\n",
      "17852\n",
      "16996\n",
      "17206\n",
      "17417\n",
      "17134\n",
      "17427\n",
      "17089\n",
      "17150\n",
      "17320\n",
      "17305\n",
      "18573\n",
      "17185\n",
      "17396\n",
      "17519\n",
      "17274\n"
     ]
    }
   ],
   "source": [
    "PSO_gen = []\n",
    "GA_gen = []\n",
    "hib_gen = []\n",
    "with open(r\"..\\results\\kn1\\medias_ponderadas_PSO.csv\", newline='\\n') as csvfile:\n",
    "    spamreader = csv.reader(csvfile, quotechar='|')\n",
    "    for row in spamreader:\n",
    "        print(row[-1])\n",
    "        PSO_gen.append(row[-1])\n",
    "with open(r\"..\\results\\kn1\\medias_ponderadas_GA.csv\", newline='\\n') as csvfile:\n",
    "    spamreader = csv.reader(csvfile, quotechar='|')\n",
    "    for row in spamreader:\n",
    "        print(row[-1])\n",
    "        GA_gen.append(row[-1])\n",
    "with open(r\"..\\results\\kn1\\medias_ponderadas_hib.csv\", newline='\\n') as csvfile:\n",
    "    spamreader = csv.reader(csvfile, quotechar='|')\n",
    "    for row in spamreader:\n",
    "        print(row[-1])\n",
    "        hib_gen.append(row[-1])"
   ]
  },
  {
   "cell_type": "code",
   "execution_count": 51,
   "metadata": {},
   "outputs": [
    {
     "name": "stdout",
     "output_type": "stream",
     "text": [
      "['18062', '17951', '17556', '17682', '17862', '17850', '17991', '17604', '18464', '17537', '18098', '17940', '17637', '17508', '17613', '17703', '17555', '17769', '18041', '17717']\n",
      "['19459', '19441', '19471', '19599', '19604', '19411', '19537', '19836', '19511', '19676', '19496', '19432', '19422', '19836', '19548', '19809', '19836', '19334', '19666', '19376']\n",
      "['17020', '17219', '17449', '17039', '16860', '17169', '17226', '17114', '17257', '17490', '17197', '17543', '17596', '17387', '17535', '17361', '17840', '18293', '18387', '17295']\n",
      "['17460', '17046', '17274', '17612', '17270', '17613', '16990', '17368', '17386', '17145', '17486', '17392', '17248', '17112', '17353', '17524', '17149', '17172', '17244', '17274']\n",
      "['17490', '17738', '17557', '17201', '17349', '17852', '16996', '17206', '17417', '17134', '17427', '17089', '17150', '17320', '17305', '18573', '17185', '17396', '17519', '17274']\n"
     ]
    }
   ],
   "source": [
    "print(PSO)\n",
    "print(GA)\n",
    "print(PSO_gen)\n",
    "print(GA_gen)\n",
    "print(hib_gen)"
   ]
  },
  {
   "cell_type": "code",
   "execution_count": 52,
   "metadata": {},
   "outputs": [],
   "source": [
    "with open(r'..\\results_latex\\kn1.csv', 'w', newline='') as csvfile:\n",
    "    spamwriter = csv.writer(csvfile,\n",
    "                            quotechar='|', quoting=csv.QUOTE_MINIMAL)\n",
    "    spamwriter.writerow([\"Ejecucion\", \"GA\", \"PSO\", \"AEMP_GA\", \"AEMP_PSO\", \"AEMP_HIB\"])\n",
    "    for ejec in range(20):\n",
    "        #spamwriter.writerow([f'E{ejec}', f'-{GA[ejec]}', f'-{PSO[ejec]}', f'-{GA_gen[ejec]}', f'-{PSO_gen[ejec]}', f'-{hib_gen[ejec]}'])\n",
    "        spamwriter.writerow([f'{ejec + 1}', f'{GA[ejec]}', f'{PSO[ejec]}', f'{GA_gen[ejec]}', f'{PSO_gen[ejec]}', f'{hib_gen[ejec]}'])\n",
    "        #print(f\"E{ejec},{GA[ejec]},{PSO[ejec]},{GA_gen[ejec]},{PSO_gen[ejec]},{hib_gen[ejec]}\")\n",
    "csvfile.close()"
   ]
  }
 ],
 "metadata": {
  "kernelspec": {
   "display_name": "Python 3",
   "language": "python",
   "name": "python3"
  },
  "language_info": {
   "codemirror_mode": {
    "name": "ipython",
    "version": 3
   },
   "file_extension": ".py",
   "mimetype": "text/x-python",
   "name": "python",
   "nbconvert_exporter": "python",
   "pygments_lexer": "ipython3",
   "version": "3.9.7"
  }
 },
 "nbformat": 4,
 "nbformat_minor": 2
}
