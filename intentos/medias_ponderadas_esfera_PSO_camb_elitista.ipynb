{
 "cells": [
  {
   "cell_type": "code",
   "execution_count": 41,
   "metadata": {},
   "outputs": [],
   "source": [
    "import numpy as np\n",
    "import random\n",
    "import math"
   ]
  },
  {
   "cell_type": "code",
   "execution_count": 70,
   "metadata": {},
   "outputs": [],
   "source": [
    "LIMITS = 100\n",
    "DIMENSION = 5\n",
    "MAX_FITNESS = 1\n",
    "MAX_ITER = 100\n",
    "SAMPLE_SIZE = 100\n",
    "INITIAL_SAMPLE_SIZE = 50"
   ]
  },
  {
   "cell_type": "code",
   "execution_count": 43,
   "metadata": {},
   "outputs": [],
   "source": [
    "class Solution:\n",
    "    def __init__(self, sol, f = 0):\n",
    "        self.sol = sol\n",
    "        self.f = f\n",
    "\n",
    "    def set_f(self, f):\n",
    "        self.f = f"
   ]
  },
  {
   "cell_type": "code",
   "execution_count": 44,
   "metadata": {},
   "outputs": [],
   "source": [
    "def esfera(sol):\n",
    "    sum = 0\n",
    "    for xi in sol:\n",
    "        sum += xi ** 2\n",
    "    return sum"
   ]
  },
  {
   "cell_type": "code",
   "execution_count": 45,
   "metadata": {},
   "outputs": [],
   "source": [
    "def fitness(sol):\n",
    "    maxi = DIMENSION * LIMITS * LIMITS\n",
    "    assert(maxi > 0)\n",
    "    esf = esfera(sol)\n",
    "    assert(esf <= maxi)\n",
    "    return (maxi - esf) / maxi"
   ]
  },
  {
   "cell_type": "code",
   "execution_count": 46,
   "metadata": {},
   "outputs": [],
   "source": [
    "def f(sol):\n",
    "    fit = fitness(sol.sol)\n",
    "    sol.set_f(fit)\n",
    "    #print(f\"FITNESS de {sol.sol} = {fit}\")\n",
    "    return fit"
   ]
  },
  {
   "cell_type": "code",
   "execution_count": 47,
   "metadata": {},
   "outputs": [],
   "source": [
    "def manhattan_distance(sol1, sol2):\n",
    "    n = len(sol1)\n",
    "    assert(n == len(sol2))\n",
    "    return sum([abs(sol1[i] - sol2[i]) for i in range(n)])"
   ]
  },
  {
   "cell_type": "code",
   "execution_count": 48,
   "metadata": {},
   "outputs": [],
   "source": [
    "def euclidean_distance(sol1, sol2):\n",
    "    n = len(sol1)\n",
    "    assert(n == len(sol2))\n",
    "    return (math.sqrt(sum([(sol1[i] - sol2[i]) ** 2 for i in range(n)])))"
   ]
  },
  {
   "cell_type": "code",
   "execution_count": 49,
   "metadata": {},
   "outputs": [],
   "source": [
    "def hamming_distance(sol1, sol2):\n",
    "    n = len(sol1)\n",
    "    #print(f\"sol1 = {sol1}\\nsol2 = {sol2}\")\n",
    "    assert(n == len(sol2))\n",
    "    return [sol1[i] == sol2[i] for i in range(n)].count(False)"
   ]
  },
  {
   "cell_type": "code",
   "execution_count": 50,
   "metadata": {},
   "outputs": [],
   "source": [
    "def inverse_distance(sol1, sol2, dist):\n",
    "    d = dist(sol1, sol2)\n",
    "    assert(d > 0) # Creo que todo está preparado para no samplear dos iguales.\n",
    "    return 1 / d if d != 0 else 2 # Realmente la forma de manejar el infinito depende de la distancia\n",
    "# El 2 funciona para Hammings porque no puede haber distancias d 0 < d < 1 (es decir, tales que 1 / d > 2)."
   ]
  },
  {
   "cell_type": "code",
   "execution_count": 51,
   "metadata": {},
   "outputs": [
    {
     "data": {
      "text/plain": [
       "0.25"
      ]
     },
     "execution_count": 51,
     "metadata": {},
     "output_type": "execute_result"
    }
   ],
   "source": [
    "inverse_distance([1,0,1,0], [0,1,0,1], hamming_distance)"
   ]
  },
  {
   "cell_type": "code",
   "execution_count": 52,
   "metadata": {},
   "outputs": [],
   "source": [
    "def search_nearest(sol, A, dist):\n",
    "    card = len(A)\n",
    "    assert(card > 0)\n",
    "    i_nearest = 0\n",
    "    min_distance = dist(sol.sol, A[i_nearest].sol)\n",
    "    for i in range(1, card):\n",
    "        distance = dist(sol.sol, A[i].sol)\n",
    "        if distance < min_distance:\n",
    "            min_distance = distance\n",
    "            i_nearest = i\n",
    "    return A[i_nearest], i_nearest"
   ]
  },
  {
   "cell_type": "code",
   "execution_count": 53,
   "metadata": {},
   "outputs": [],
   "source": [
    "def search_optimal(A):\n",
    "    assert (len(A) > 0)\n",
    "    return A[0]"
   ]
  },
  {
   "cell_type": "code",
   "execution_count": 54,
   "metadata": {},
   "outputs": [],
   "source": [
    "def w(sol1, sol2, A, dist):\n",
    "    assert(len(sol1) == len(sol2))\n",
    "    sum = 0\n",
    "    for point in A:\n",
    "        sol = point.sol\n",
    "        assert(len(sol) == len(sol1))\n",
    "        sum += inverse_distance(sol1, sol, dist)\n",
    "    assert(sum > 0) # Creo que se puede demostrar que esto no va a ser 0.\n",
    "    inv = inverse_distance(sol1, sol2, dist)\n",
    "    res = inv / sum\n",
    "    #print(f\"inv: {inv}\\nsum: {sum}\\nres: {res}\")\n",
    "    return res"
   ]
  },
  {
   "cell_type": "code",
   "execution_count": 55,
   "metadata": {},
   "outputs": [],
   "source": [
    "def g(sol, A, dist):\n",
    "    sum = 0\n",
    "    k = len(A)\n",
    "    for i in range(k):\n",
    "        wei = w(sol.sol, A[i].sol, A, dist)\n",
    "        fit = (k - i) / k\n",
    "        #print(f\"\\nwei: {wei} \\n fit: {fit}\")\n",
    "        sum += wei * fit\n",
    "    #print(f\"\\n\\n g: {sum}\\n\\n\")\n",
    "    return sum"
   ]
  },
  {
   "cell_type": "code",
   "execution_count": 56,
   "metadata": {},
   "outputs": [],
   "source": [
    "def g_positional(sol, set_sols, i_nearest, size, dist):\n",
    "    wei_opt = w(sol.sol, set_sols[0].sol, set_sols, dist)\n",
    "    fit_opt = 1\n",
    "    wei_nearest = w(sol.sol, set_sols[1].sol, set_sols, dist)\n",
    "    fit_nearest = (size - i_nearest) / size\n",
    "    return wei_opt * fit_opt + wei_nearest * fit_nearest"
   ]
  },
  {
   "cell_type": "code",
   "execution_count": 57,
   "metadata": {},
   "outputs": [],
   "source": [
    "def sample(k, A, dist, skip = []):\n",
    "    n = DIMENSION\n",
    "    sample = []\n",
    "    while len(sample) < k:\n",
    "        x = [random.randint(-LIMITS, LIMITS) for _ in range(n)]\n",
    "        if any(point.sol == x for point in sample) or any(point.sol == x for point in skip):\n",
    "            continue\n",
    "        #y = random.randint(0, MAX_FITNESS)\n",
    "        #y = random.uniform(0, MAX_FITNESS)\n",
    "        # Para fitness al cuadrado:\n",
    "        y = random.uniform(0, MAX_FITNESS)\n",
    "        sol = Solution(x)\n",
    "        opt = search_optimal(A)\n",
    "        nearest, i_nearest = search_nearest(sol, A, dist)\n",
    "        set_points = [opt, nearest]\n",
    "        g_val = g_positional(sol, set_points, i_nearest, k, dist)\n",
    "        # Para fitness al cuadrado:\n",
    "        #g_val = g_val ** 30\n",
    "        if g_val > y:\n",
    "            #print(fitness(x))\n",
    "            #print(f\"Muestra añadida {x}\\ncon valor de g: {g_val} y valor de y: {y}\")\n",
    "            f(sol)\n",
    "            sample.append(sol)\n",
    "    return sample"
   ]
  },
  {
   "cell_type": "code",
   "execution_count": 58,
   "metadata": {},
   "outputs": [],
   "source": [
    "def init(k):\n",
    "    n = DIMENSION\n",
    "    init = []\n",
    "    while len(init) < k:\n",
    "        x = [random.randint(-LIMITS, LIMITS) for _ in range(n)]\n",
    "        if not any(point.sol == x for point in init): # Esto se evita usando un set. Aún no tengo claro si necesito índices, o si el set es eficiente en python.\n",
    "            sol = Solution(x)\n",
    "            f(sol)\n",
    "            init.append(sol)\n",
    "    return init\n",
    "\n",
    "def max_k_fitness(set_sols, k):\n",
    "    sor = sorted([(fitness(elem), elem) for elem in set_sols])\n",
    "    return [elem for (_,elem) in sor][-k:]\n",
    "\n",
    "def max_fitness(set_sols):\n",
    "    max_value = fitness(set_sols[0])\n",
    "    max_elem = set_sols[0]\n",
    "    for elem in set_sols[1:]:\n",
    "        f = fitness(elem)\n",
    "        if f > max_value:\n",
    "            max_value = f\n",
    "            max_elem = elem\n",
    "    return max_elem, max_value\n",
    "\n",
    "def next_gen(curr_gen, k):\n",
    "    new = sample(k, skip = curr_gen)\n",
    "    return max_k_fitness(curr_gen + new, k)\n",
    "\n",
    "def algorithm():\n",
    "    gen = init(SAMPLE_SIZE)\n",
    "    for _ in range(MAX_ITER):\n",
    "        gen = next_gen(gen, SAMPLE_SIZE)\n",
    "    return max_fitness(gen)"
   ]
  },
  {
   "cell_type": "code",
   "execution_count": 59,
   "metadata": {},
   "outputs": [],
   "source": [
    "def max_f(A):\n",
    "    assert(len(A) > 0)\n",
    "    max_value = A[0].f\n",
    "    max_elem = A[0]\n",
    "    for elem in A[1:]:\n",
    "        fit = elem.f\n",
    "        if fit > max_value:\n",
    "            max_value = fit\n",
    "            max_elem = elem\n",
    "    return max_elem, max_value"
   ]
  },
  {
   "cell_type": "code",
   "execution_count": 60,
   "metadata": {},
   "outputs": [],
   "source": [
    "def alg(sample_size, num_iter, initial_sample_size, dist):\n",
    "    #dic.clear()\n",
    "    A = init(initial_sample_size)\n",
    "    for i in range(num_iter):\n",
    "        print(f\"iter {i}\")\n",
    "        A.extend(sample(sample_size, A, dist, skip = A))\n",
    "    return max_f(A)"
   ]
  },
  {
   "cell_type": "code",
   "execution_count": 61,
   "metadata": {},
   "outputs": [],
   "source": [
    "def next_swarm_step(k, A, dist):\n",
    "    opt = search_optimal(A)\n",
    "    next = sample(k - 1, A, dist, skip = A)\n",
    "    next.append(opt)\n",
    "    return sorted(next, key = lambda x : x.f, reverse = True)"
   ]
  },
  {
   "cell_type": "code",
   "execution_count": 68,
   "metadata": {},
   "outputs": [],
   "source": [
    "def alg2(sample_size, num_iter, dist):\n",
    "    A = init(sample_size)\n",
    "    for i in range(num_iter):\n",
    "        #print(f\"iter {i}\")\n",
    "        A = next_swarm_step(sample_size, A, dist)\n",
    "    return max_f(A)"
   ]
  },
  {
   "cell_type": "code",
   "execution_count": 71,
   "metadata": {},
   "outputs": [
    {
     "name": "stdout",
     "output_type": "stream",
     "text": [
      "Máximo valor de fitness (0.99504) encontrado para [-7, 7, -11, 5, -2], con volumen 248.\n"
     ]
    }
   ],
   "source": [
    "elem, fit = alg2(sample_size = SAMPLE_SIZE, num_iter = MAX_ITER, dist = euclidean_distance)\n",
    "print(f'Máximo valor de fitness ({fit}) encontrado para {elem.sol}, con volumen {esfera(elem.sol)}.')"
   ]
  },
  {
   "cell_type": "code",
   "execution_count": 72,
   "metadata": {},
   "outputs": [
    {
     "name": "stdout",
     "output_type": "stream",
     "text": [
      "Máximo valor de fitness (0.99224) encontrado para [-11, -13, -3, 5, 8], con volumen 388.\n",
      "Máximo valor de fitness (0.99734) encontrado para [8, 4, -2, -7, 0], con volumen 133.\n",
      "Máximo valor de fitness (0.99658) encontrado para [-5, 0, 1, -9, 8], con volumen 171.\n",
      "Máximo valor de fitness (0.99492) encontrado para [9, 6, -10, 1, -6], con volumen 254.\n",
      "Máximo valor de fitness (0.989) encontrado para [10, 15, -14, 2, -5], con volumen 550.\n",
      "Máximo valor de fitness (0.99476) encontrado para [0, 8, -5, 2, -13], con volumen 262.\n",
      "Máximo valor de fitness (0.99254) encontrado para [11, 4, -6, 10, 10], con volumen 373.\n",
      "Máximo valor de fitness (0.99316) encontrado para [-13, -4, 12, -2, 3], con volumen 342.\n",
      "Máximo valor de fitness (0.99812) encontrado para [-4, -7, 4, -2, 3], con volumen 94.\n",
      "Máximo valor de fitness (0.99848) encontrado para [1, -3, 4, 5, 5], con volumen 76.\n",
      "Máximo valor de fitness (0.99252) encontrado para [-4, 2, -7, -16, 7], con volumen 374.\n",
      "Máximo valor de fitness (0.9958) encontrado para [-4, -3, -7, -6, 10], con volumen 210.\n",
      "Máximo valor de fitness (0.9871) encontrado para [0, -1, 18, -16, -8], con volumen 645.\n",
      "Máximo valor de fitness (0.9925) encontrado para [-2, 3, 9, -16, 5], con volumen 375.\n",
      "Máximo valor de fitness (0.99338) encontrado para [-4, -5, 11, -12, 5], con volumen 331.\n",
      "Máximo valor de fitness (0.98818) encontrado para [18, -4, 13, 1, -9], con volumen 591.\n",
      "Máximo valor de fitness (0.98962) encontrado para [11, 0, -19, -6, 1], con volumen 519.\n",
      "Máximo valor de fitness (0.98672) encontrado para [-6, 17, 11, 13, -7], con volumen 664.\n",
      "Máximo valor de fitness (0.99216) encontrado para [-9, -5, 14, 9, -3], con volumen 392.\n",
      "Máximo valor de fitness (0.99758) encontrado para [-4, 8, 4, 3, -4], con volumen 121.\n"
     ]
    }
   ],
   "source": [
    "for i in range(20):\n",
    "    elem, fit = alg2(sample_size = SAMPLE_SIZE, num_iter = MAX_ITER, dist = euclidean_distance)\n",
    "    print(f'Máximo valor de fitness ({fit}) encontrado para {elem.sol}, con volumen {esfera(elem.sol)}.')"
   ]
  }
 ],
 "metadata": {
  "kernelspec": {
   "display_name": "Python 3",
   "language": "python",
   "name": "python3"
  },
  "language_info": {
   "codemirror_mode": {
    "name": "ipython",
    "version": 3
   },
   "file_extension": ".py",
   "mimetype": "text/x-python",
   "name": "python",
   "nbconvert_exporter": "python",
   "pygments_lexer": "ipython3",
   "version": "3.9.7"
  }
 },
 "nbformat": 4,
 "nbformat_minor": 2
}
