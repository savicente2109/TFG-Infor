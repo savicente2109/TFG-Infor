{
 "cells": [
  {
   "cell_type": "code",
   "execution_count": 1,
   "metadata": {},
   "outputs": [],
   "source": [
    "import numpy as np\n",
    "import random"
   ]
  },
  {
   "cell_type": "code",
   "execution_count": 2,
   "metadata": {},
   "outputs": [],
   "source": [
    "import networkx as nx\n",
    "#G = nx.read_edgelist(r\"..\\vertex_cover_benchmarks\\ENZYMES_g102.edges\", nodetype=int)\n",
    "#G = nx.read_edgelist(r\"..\\vertex_cover_benchmarks\\aves-sparrowlyon-flock-season2-unw.edges\", nodetype=int)\n",
    "#G = nx.read_edgelist(\"brock200_1_complement.edges\", nodetype=int)\n",
    "G = nx.read_edgelist(r\"..\\vertex_cover_benchmarks\\sparrow_unweighted.edges\", nodetype=int)"
   ]
  },
  {
   "cell_type": "code",
   "execution_count": 3,
   "metadata": {},
   "outputs": [],
   "source": [
    "#MAX_FITNESS = G.order() # Tal y como está definido, el máximo valor que puede tomar el fitness es el número de nodos del grafo\n",
    "MAX_FITNESS = 1\n",
    "MAX_ITER = 1000\n",
    "SAMPLE_SIZE = 100\n",
    "INITIAL_SAMPLE_SIZE = 300"
   ]
  },
  {
   "cell_type": "code",
   "execution_count": 4,
   "metadata": {},
   "outputs": [],
   "source": [
    "class Solution:\n",
    "    def __init__(self, sol, f = 0):\n",
    "        self.sol = sol\n",
    "        self.f = f\n",
    "\n",
    "    def set_f(self, f):\n",
    "        self.f = f"
   ]
  },
  {
   "cell_type": "code",
   "execution_count": 5,
   "metadata": {},
   "outputs": [],
   "source": [
    "def subsets(a):\n",
    "  l = len(a)\n",
    "  n = l - 1\n",
    "  x = [0] * n\n",
    "  f = [j for j in range(l)]\n",
    "  r = list()\n",
    "  \n",
    "  while n:\n",
    "    m = [0] + x # insert 0 at the beginning of the bit string forms\n",
    "    subset = [a[i] for i in range(l) if m[i] == 1] # generate the subset\n",
    "    \n",
    "    # and use the subset to generate the subsets for when 1 is inserted at the beginning\n",
    "    k = [a[0]] + subset\n",
    "    \n",
    "    r.append(subset) # add to the table all subsets of bits strigs with prefix 0\n",
    "    r.append(k) # add to the table all subsets of bits strings with prefix 1\n",
    "    \n",
    "    # initialization\n",
    "    # this is where we choose which j we want to change\n",
    "    j = f[0]\n",
    "    f[0] = 0\n",
    "    \n",
    "    # if j == n we terminate because we have all the possible bit strings\n",
    "    if j == n:\n",
    "      break\n",
    "     \n",
    "    # update our array when j != n\n",
    "    f[j] = f[j + 1]\n",
    "    f[j + 1] = j + 1\n",
    "    \n",
    "    x[j] = 1 - x[j] # complement coordinate j and return to line 8 if j != n\n",
    "  \n",
    "  return r"
   ]
  },
  {
   "cell_type": "code",
   "execution_count": 6,
   "metadata": {},
   "outputs": [],
   "source": [
    "def is_cover(sol, G):\n",
    "    for u, v in G.edges():\n",
    "        if sol[u - 1] == 0 and sol[v - 1] == 0:\n",
    "            return False\n",
    "    return True"
   ]
  },
  {
   "cell_type": "code",
   "execution_count": 7,
   "metadata": {},
   "outputs": [],
   "source": [
    "def naive_cover(sol, G):\n",
    "    for u, v in G.edges():\n",
    "        if sol[u - 1] == 0 and sol[v - 1] == 0:\n",
    "            node = random.choice([u, v])\n",
    "            sol[node - 1] = 1\n",
    "    return"
   ]
  },
  {
   "cell_type": "code",
   "execution_count": 8,
   "metadata": {},
   "outputs": [],
   "source": [
    "def fitness(sol):\n",
    "    print(\"oye por favor\")\n",
    "    n = G.order()\n",
    "    if is_cover(sol, G):\n",
    "        return n - sum(sol)\n",
    "    else:\n",
    "        if sum(sol) >= (2 * n // 3):\n",
    "            print(\"estoy en sitio bueno\")\n",
    "            zeros_index = []\n",
    "            for i in range(len(sol)):\n",
    "                if sol[i] == 0:\n",
    "                    zeros_index.append(i)\n",
    "                    #sol[i] = 1\n",
    "                    #if is_cover(sol, G):\n",
    "                    #    print(sol)\n",
    "                    #    break\n",
    "                    #sol[i] = 0\n",
    "            r = subsets(zeros_index)\n",
    "            r.sort(key=len)\n",
    "            # r[0] es el conjunto vacío\n",
    "            for subset in r[1:]:\n",
    "                for index in subset:\n",
    "                    sol[index] = 1 # Esto modifica sol porque se pasa por referencia\n",
    "                if is_cover(sol, G):\n",
    "                    print(f\"found fitness {n - sum(sol)}\")\n",
    "                    return n - sum(sol)\n",
    "                for index in subset:\n",
    "                    sol[index] = 0\n",
    "            #print(\"calavera 1\")\n",
    "            return 0\n",
    "        else:\n",
    "            naive_cover(sol, G)\n",
    "            #print(\"calavera 2\")\n",
    "            return n - sum(sol)"
   ]
  },
  {
   "cell_type": "code",
   "execution_count": 9,
   "metadata": {},
   "outputs": [
    {
     "data": {
      "text/plain": [
       "0.7619047619047619"
      ]
     },
     "execution_count": 9,
     "metadata": {},
     "output_type": "execute_result"
    }
   ],
   "source": [
    "(G.order() - 10) / G.order()"
   ]
  },
  {
   "cell_type": "code",
   "execution_count": 9,
   "metadata": {},
   "outputs": [],
   "source": [
    "def fitness2(sol):\n",
    "    if is_cover(sol, G):\n",
    "        print(\"found\")\n",
    "        n = G.order()\n",
    "        return (n - sum(sol)) / n\n",
    "    else:\n",
    "        return 0"
   ]
  },
  {
   "cell_type": "code",
   "execution_count": 10,
   "metadata": {},
   "outputs": [],
   "source": [
    "def fitness3(sol):\n",
    "    n = G.order()\n",
    "    if is_cover(sol, G):\n",
    "        #print(\"buenísimo\")\n",
    "        return (n - sum(sol)) / sum(sol)\n",
    "    else:\n",
    "        if sum(sol) >= (2 * n // 3):\n",
    "            #print(\"estoy en sitio bueno\")\n",
    "            zeros_index = []\n",
    "            for i in range(len(sol)):\n",
    "                if sol[i] == 0:\n",
    "                    zeros_index.append(i)\n",
    "                    #sol[i] = 1\n",
    "                    #if is_cover(sol, G):\n",
    "                    #    print(sol)\n",
    "                    #    break\n",
    "                    #sol[i] = 0\n",
    "            r = subsets(zeros_index)\n",
    "            r.sort(key=len)\n",
    "            # r[0] es el conjunto vacío\n",
    "            for subset in r[1:]:\n",
    "                for index in subset:\n",
    "                    sol[index] = 1 # Esto modifica sol porque se pasa por referencia\n",
    "                if is_cover(sol, G):\n",
    "                    #print(f\"found fitness {(n - sum(sol)) / sum(sol)}\")\n",
    "                    return (n - sum(sol)) / sum(sol)\n",
    "                for index in subset:\n",
    "                    sol[index] = 0\n",
    "            assert(False)\n",
    "            naive_cover(sol, G) # Pensándolo, aquí no debería llegar porque siempre se puede completar\n",
    "            print(\"calavera 1\")\n",
    "            return (n - sum(sol)) / sum(sol)\n",
    "        else:\n",
    "            naive_cover(sol, G)\n",
    "            #print(\"calavera 2\")\n",
    "            return (n - sum(sol)) / sum(sol)"
   ]
  },
  {
   "cell_type": "code",
   "execution_count": 11,
   "metadata": {},
   "outputs": [],
   "source": [
    "def fitness4(sol):\n",
    "    n = G.order()\n",
    "    if not is_cover(sol, G):\n",
    "        naive_cover(sol, G)\n",
    "    return (n - sum(sol)) / sum(sol)"
   ]
  },
  {
   "cell_type": "code",
   "execution_count": 12,
   "metadata": {},
   "outputs": [],
   "source": [
    "def f(sol):\n",
    "    fit = fitness4(sol.sol)\n",
    "    sol.set_f(fit)\n",
    "    #print(f\"FITNESS de {sol.sol} = {fit}\")\n",
    "    return fit"
   ]
  },
  {
   "cell_type": "code",
   "execution_count": 13,
   "metadata": {},
   "outputs": [],
   "source": [
    "def hamming_distance(sol1, sol2):\n",
    "    n = len(sol1)\n",
    "    #print(f\"sol1 = {sol1}\\nsol2 = {sol2}\")\n",
    "    assert(n == len(sol2))\n",
    "    return [sol1[i] == sol2[i] for i in range(n)].count(False) ** 3"
   ]
  },
  {
   "cell_type": "code",
   "execution_count": 14,
   "metadata": {},
   "outputs": [],
   "source": [
    "def inverse_distance(sol1, sol2, dist):\n",
    "    d = dist(sol1, sol2)\n",
    "    return 1 / d if d != 0 else 2 # Realmente la forma de manejar el infinito depende de la distancia\n",
    "# El 2 funciona para Hammings porque no puede haber distancias d 0 < d < 1 (es decir, tales que 1 / d > 2)."
   ]
  },
  {
   "cell_type": "code",
   "execution_count": 16,
   "metadata": {},
   "outputs": [
    {
     "data": {
      "text/plain": [
       "0.015625"
      ]
     },
     "execution_count": 16,
     "metadata": {},
     "output_type": "execute_result"
    }
   ],
   "source": [
    "inverse_distance([1,0,1,0], [0,1,0,1], hamming_distance)"
   ]
  },
  {
   "cell_type": "code",
   "execution_count": 15,
   "metadata": {},
   "outputs": [],
   "source": [
    "def w(sol1, sol2, A, dist):\n",
    "    assert(len(sol1) == len(sol2))\n",
    "    sum = 0\n",
    "    for point in A:\n",
    "        sol = point.sol\n",
    "        assert(len(sol) == len(sol1))\n",
    "        sum += inverse_distance(sol1, sol, dist)\n",
    "    assert(sum > 0) # Creo que se puede demostrar que esto no va a ser 0.\n",
    "    inv = inverse_distance(sol1, sol2, dist)\n",
    "    res = inv / sum\n",
    "    #print(f\"inv: {inv}\\nsum: {sum}\\nres: {res}\")\n",
    "    return res"
   ]
  },
  {
   "cell_type": "code",
   "execution_count": 16,
   "metadata": {},
   "outputs": [],
   "source": [
    "def g(sol, A, dist):\n",
    "    sum = 0\n",
    "    for point in A:\n",
    "        wei = w(sol.sol, point.sol, A, dist)\n",
    "        fit = point.f\n",
    "        #print(f\"\\nwei: {wei} \\n fit: {fit}\")\n",
    "        sum += wei * fit\n",
    "    #print(f\"\\n\\n g: {sum}\\n\\n\")\n",
    "    return sum"
   ]
  },
  {
   "cell_type": "code",
   "execution_count": 17,
   "metadata": {},
   "outputs": [],
   "source": [
    "def search_optimal(A):\n",
    "    card = len(A)\n",
    "    assert(card > 0)\n",
    "    opt = A[0]\n",
    "    max_fit = opt.f\n",
    "    for elem in A[1:]:\n",
    "        fit = elem.f\n",
    "        if fit > max_fit:\n",
    "            max_fit = fit\n",
    "            opt = elem\n",
    "    return opt"
   ]
  },
  {
   "cell_type": "code",
   "execution_count": 18,
   "metadata": {},
   "outputs": [],
   "source": [
    "def search_nearest(sol, A, dist):\n",
    "    card = len(A)\n",
    "    assert(card > 0)\n",
    "    nearest = A[0]\n",
    "    min_distance = dist(sol.sol, nearest.sol)\n",
    "    for elem in A[1:]:\n",
    "        distance = dist(sol.sol, elem.sol)\n",
    "        if distance < min_distance:\n",
    "            min_distance = distance\n",
    "            nearest = elem\n",
    "    return nearest"
   ]
  },
  {
   "cell_type": "code",
   "execution_count": 19,
   "metadata": {},
   "outputs": [],
   "source": [
    "def search_2_nearest(sol, A, dist):\n",
    "    card = len(A)\n",
    "    assert(card > 1)\n",
    "    first_distance = dist(sol.sol, A[0].sol)\n",
    "    second_distance = dist(sol.sol, A[1].sol)\n",
    "    if first_distance > second_distance:\n",
    "        nearest = A[1]\n",
    "        second = A[0]\n",
    "        min_distance = second_distance\n",
    "        sec_min_distance = first_distance\n",
    "    else:\n",
    "        nearest = A[0]\n",
    "        second = A[1]\n",
    "        min_distance = first_distance\n",
    "        sec_min_distance = second_distance\n",
    "    for elem in A[2:]:\n",
    "        distance = dist(sol.sol, elem.sol)\n",
    "        if distance < sec_min_distance:\n",
    "            if distance < min_distance:\n",
    "                sec_min_distance = min_distance\n",
    "                min_distance = distance\n",
    "                second = nearest\n",
    "                nearest = elem\n",
    "            else:\n",
    "                sec_min_distance = distance\n",
    "                second = elem\n",
    "    return [nearest, second]"
   ]
  },
  {
   "cell_type": "code",
   "execution_count": 20,
   "metadata": {},
   "outputs": [],
   "source": [
    "def sample(k, A, dist, skip = []):\n",
    "    n = G.order()\n",
    "    sample = []\n",
    "    while len(sample) < k:\n",
    "        x = [random.choice([0, 1]) for _ in range(n)]\n",
    "        if x in sample or x in skip:\n",
    "            continue\n",
    "        #y = random.randint(0, MAX_FITNESS)\n",
    "        y = random.uniform(0, MAX_FITNESS)\n",
    "        sol = Solution(x)\n",
    "        set_points = [search_optimal(A)] + search_2_nearest(sol, A, dist)\n",
    "        g_val = g(sol, set_points, dist)\n",
    "        if g_val > y:\n",
    "            #print(fitness(x))\n",
    "            f(sol)\n",
    "            #print(f\"Muestra añadida {x}\\ncon valor de g: {g_val} y valor de y: {y}\")\n",
    "            sample.append(sol)\n",
    "    return sample"
   ]
  },
  {
   "cell_type": "code",
   "execution_count": 21,
   "metadata": {},
   "outputs": [],
   "source": [
    "def init(k):\n",
    "    n = G.order()\n",
    "    init = []\n",
    "    while len(init) < k:\n",
    "        x = [random.choice([0, 1]) for _ in range(n)]\n",
    "        if not any(point.sol == x for point in init): # Esto se evita usando un set. Aún no tengo claro si necesito índices, o si el set es eficiente en python.\n",
    "            sol = Solution(x)\n",
    "            f(sol)\n",
    "            init.append(sol)\n",
    "    return init\n",
    "\n",
    "def max_k_fitness(set_sols, k):\n",
    "    sor = sorted([(fitness(elem), elem) for elem in set_sols])\n",
    "    return [elem for (_,elem) in sor][-k:]\n",
    "\n",
    "def max_fitness(set_sols):\n",
    "    max_value = fitness(set_sols[0])\n",
    "    max_elem = set_sols[0]\n",
    "    for elem in set_sols[1:]:\n",
    "        f = fitness(elem)\n",
    "        if f > max_value:\n",
    "            max_value = f\n",
    "            max_elem = elem\n",
    "    return max_elem, max_value\n",
    "\n",
    "def next_gen(curr_gen, k):\n",
    "    new = sample(k, skip = curr_gen)\n",
    "    return max_k_fitness(curr_gen + new, k)\n",
    "\n",
    "def algorithm():\n",
    "    gen = init(SAMPLE_SIZE)\n",
    "    for _ in range(MAX_ITER):\n",
    "        gen = next_gen(gen, SAMPLE_SIZE)\n",
    "    return max_fitness(gen)"
   ]
  },
  {
   "cell_type": "code",
   "execution_count": 22,
   "metadata": {},
   "outputs": [],
   "source": [
    "def max_f(A):\n",
    "    assert(len(A) > 0)\n",
    "    max_value = A[0].f\n",
    "    max_elem = A[0]\n",
    "    for elem in A[1:]:\n",
    "        fit = elem.f\n",
    "        if fit > max_value:\n",
    "            max_value = fit\n",
    "            max_elem = elem\n",
    "    return max_elem, max_value"
   ]
  },
  {
   "cell_type": "code",
   "execution_count": 23,
   "metadata": {},
   "outputs": [],
   "source": [
    "def alg(sample_size, num_iter, initial_sample_size, dist):\n",
    "    #dic.clear()\n",
    "    A = init(initial_sample_size)\n",
    "    for i in range(num_iter):\n",
    "        print(f\"iter {i}\")\n",
    "        A.extend(sample(sample_size, A, dist, skip = A))\n",
    "    return max_f(A)"
   ]
  },
  {
   "cell_type": "code",
   "execution_count": 24,
   "metadata": {},
   "outputs": [],
   "source": [
    "def next_swarm_step(k, A, dist):\n",
    "    opt = search_optimal(A)\n",
    "    next = sample(k - 1, A, dist, skip = A)\n",
    "    next.append(opt)\n",
    "    return next"
   ]
  },
  {
   "cell_type": "code",
   "execution_count": 26,
   "metadata": {},
   "outputs": [],
   "source": [
    "def alg2(sample_size, num_iter, dist):\n",
    "    A = init(sample_size)\n",
    "    for i in range(num_iter):\n",
    "        A = next_swarm_step(sample_size, A, dist)\n",
    "    return max_f(A)"
   ]
  },
  {
   "cell_type": "code",
   "execution_count": 28,
   "metadata": {},
   "outputs": [
    {
     "data": {
      "text/plain": [
       "'\\nelem, fit = alg2(sample_size = SAMPLE_SIZE, num_iter = MAX_ITER, dist = hamming_distance)\\nprint(f\\'Máximo valor de fitness ({fit}) encontrado para {elem.sol}, con {sum(elem.sol)} nodos.\\')\\n\\nprint(is_cover(elem.sol, G))\\n\\nnum_ceros = G.order() - sum(elem.sol)\\nprint(num_ceros, \"ceros\")\\n'"
      ]
     },
     "execution_count": 28,
     "metadata": {},
     "output_type": "execute_result"
    }
   ],
   "source": [
    "\"\"\"\n",
    "elem, fit = alg2(sample_size = SAMPLE_SIZE, num_iter = MAX_ITER, dist = hamming_distance)\n",
    "print(f'Máximo valor de fitness ({fit}) encontrado para {elem.sol}, con {sum(elem.sol)} nodos.')\n",
    "\n",
    "print(is_cover(elem.sol, G))\n",
    "\n",
    "num_ceros = G.order() - sum(elem.sol)\n",
    "print(num_ceros, \"ceros\")\n",
    "\"\"\""
   ]
  },
  {
   "cell_type": "code",
   "execution_count": 29,
   "metadata": {},
   "outputs": [],
   "source": [
    "#for i in range(20):\n",
    "#    elem, fit = alg2(sample_size = SAMPLE_SIZE, num_iter = MAX_ITER, dist = hamming_distance)\n",
    "#    print(f'Máximo valor de fitness ({fit}) encontrado para {elem.sol}, con {sum(elem.sol)} nodos.')\n",
    "\n",
    "#    print(is_cover(elem.sol, G))\n",
    "\n",
    "#    num_ceros = G.order() - sum(elem.sol)\n",
    "#    print(num_ceros, \"ceros\")"
   ]
  },
  {
   "cell_type": "code",
   "execution_count": 27,
   "metadata": {},
   "outputs": [
    {
     "name": "stdout",
     "output_type": "stream",
     "text": [
      "ejec 0\n",
      "ejec 1\n",
      "ejec 2\n",
      "ejec 3\n",
      "ejec 4\n",
      "ejec 5\n",
      "ejec 6\n",
      "ejec 7\n",
      "ejec 8\n",
      "ejec 9\n",
      "ejec 10\n",
      "ejec 11\n",
      "ejec 12\n",
      "ejec 13\n",
      "ejec 14\n",
      "ejec 15\n",
      "ejec 16\n",
      "ejec 17\n",
      "ejec 18\n",
      "ejec 19\n"
     ]
    }
   ],
   "source": [
    "output = open(r\"..\\results\\sparrow\\medias_ponderadas_hib.csv\", \"a\")\n",
    "for i in range(20):\n",
    "    print(f\"ejec {i}\")\n",
    "    elem, fit = alg2(sample_size = SAMPLE_SIZE, num_iter = MAX_ITER, dist = hamming_distance)\n",
    "    output.write(f'{elem.sol},')\n",
    "\n",
    "    num_ceros = G.order() - sum(elem.sol)\n",
    "    output.write(f'{num_ceros}\\n')\n",
    "output.close()"
   ]
  }
 ],
 "metadata": {
  "kernelspec": {
   "display_name": "Python 3",
   "language": "python",
   "name": "python3"
  },
  "language_info": {
   "codemirror_mode": {
    "name": "ipython",
    "version": 3
   },
   "file_extension": ".py",
   "mimetype": "text/x-python",
   "name": "python",
   "nbconvert_exporter": "python",
   "pygments_lexer": "ipython3",
   "version": "3.9.7"
  }
 },
 "nbformat": 4,
 "nbformat_minor": 2
}
