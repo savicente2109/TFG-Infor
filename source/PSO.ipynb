{
 "cells": [
  {
   "cell_type": "code",
   "execution_count": null,
   "metadata": {},
   "outputs": [],
   "source": [
    "# Import modules\n",
    "import numpy as np\n",
    "\n",
    "# Import PySwarms\n",
    "import pyswarms as ps\n",
    "from pyswarms.utils.functions import single_obj as fx\n",
    "\n",
    "# Some more magic so that the notebook will reload external python modules;\n",
    "# see http://stackoverflow.com/questions/1907993/autoreload-of-modules-in-ipython\n",
    "%load_ext autoreload\n",
    "%autoreload 2"
   ]
  },
  {
   "cell_type": "markdown",
   "metadata": {},
   "source": [
    "### Variables globales del problema"
   ]
  },
  {
   "cell_type": "code",
   "execution_count": null,
   "metadata": {},
   "outputs": [],
   "source": [
    "# Para VERTEX COVER\n",
    "\n",
    "import networkx as nx\n",
    "#G = nx.read_edgelist(r\"..\\vertex_cover_benchmarks\\ENZYMES_g102.edges\", nodetype=int)\n",
    "#G = nx.read_edgelist(r\"..\\vertex_cover_benchmarks\\aves-sparrowlyon-flock-season2-unw.edges\", nodetype=int)\n",
    "#G = nx.read_edgelist(\"brock200_1_complement.edges\", nodetype=int)\n",
    "#G = nx.read_edgelist(r\"..\\vertex_cover_benchmarks\\sparrow_unweighted.edges\", nodetype=int)\n",
    "G = nx.read_edgelist(r\"..\\vertex_cover_benchmarks\\cats.edges\", nodetype=int)\n",
    "n = G.order()"
   ]
  },
  {
   "cell_type": "code",
   "execution_count": null,
   "metadata": {},
   "outputs": [],
   "source": [
    "# Para KNAPSACK\n",
    "\n",
    "values = []\n",
    "weights = []\n",
    "\n",
    "with open(r\"..\\knapsack_benchmarks\\s003.kp\") as f:\n",
    "    n, W = [int(x) for x in next(f).split()] # read first line\n",
    "    for line in f: # read rest of lines\n",
    "        nums = line.split()\n",
    "        values.append(int(nums[0]))\n",
    "        weights.append(int(nums[1]))\n",
    "\n",
    "\n",
    "print(values)\n",
    "print(weights)"
   ]
  },
  {
   "cell_type": "markdown",
   "metadata": {},
   "source": [
    "### Parámetros"
   ]
  },
  {
   "cell_type": "code",
   "execution_count": null,
   "metadata": {},
   "outputs": [],
   "source": [
    "DIMENSION = 30\n",
    "SAMPLE_SIZE = 100\n",
    "MAX_ITER = 5000"
   ]
  },
  {
   "cell_type": "markdown",
   "metadata": {},
   "source": [
    "### Funciones de fitness\n",
    "\n",
    "Se han transformado ligeramente porque pyswarms utiliza problemas de minimización"
   ]
  },
  {
   "cell_type": "code",
   "execution_count": null,
   "metadata": {},
   "outputs": [],
   "source": [
    "import random\n",
    "\n",
    "def is_cover(sol, G):\n",
    "    for u, v in G.edges():\n",
    "        if sol[u - 1] == 0 and sol[v - 1] == 0:\n",
    "            return False\n",
    "    return True\n",
    "\n",
    "def naive_cover(sol, G):\n",
    "    for u, v in G.edges():\n",
    "        if sol[u - 1] == 0 and sol[v - 1] == 0:\n",
    "            node = random.choice([u, v])\n",
    "            sol[node - 1] = 1\n",
    "    return\n",
    "\n",
    "@ps.cost\n",
    "def fitness_vertex_cover(sol):\n",
    "    n = G.order()\n",
    "    if is_cover(sol, G):\n",
    "        return sum(sol)\n",
    "    else:\n",
    "        naive_cover(sol, G)\n",
    "        return sum(sol)\n",
    "\n",
    "@ps.cost\n",
    "def fitness_knapsack(sol):\n",
    "    n = len(sol)\n",
    "    fit = 0\n",
    "    wei = 0\n",
    "    for i in range(n):\n",
    "        fit += values[i] * sol[i]\n",
    "        wei += weights[i] * sol[i]\n",
    "    while wei > W:\n",
    "        sacar = random.randrange(0, n)\n",
    "        wei -= weights[sacar] * sol[sacar]\n",
    "        fit -= values[sacar] * sol[sacar]\n",
    "        sol[sacar] = 0\n",
    "    return -fit"
   ]
  },
  {
   "cell_type": "markdown",
   "metadata": {},
   "source": [
    "### Hiperparámetros de PSO"
   ]
  },
  {
   "cell_type": "code",
   "execution_count": null,
   "metadata": {},
   "outputs": [],
   "source": [
    "# Se suelen elegir valores bajos para la inercia (w) y altos\n",
    "# para las componentes memorísticas y sociales (c1, c2).\n",
    "# k es el número de vecinos considerados y p representa la métrica Lp elegida\n",
    "# (la distancia de Hamming en vectores binarios es equivalente a Manhattan o L1).\n",
    "options = {'c1': 0.7, 'c2': 0.7, 'w':0.2, 'k':SAMPLE_SIZE, 'p':1}"
   ]
  },
  {
   "cell_type": "markdown",
   "metadata": {},
   "source": [
    "### Resultados de N ejecuciones de VERTEX COVER"
   ]
  },
  {
   "cell_type": "code",
   "execution_count": null,
   "metadata": {},
   "outputs": [],
   "source": [
    "# Elegir la ruta donde guardar los resultados:\n",
    "output = open(r\"..\\results\\cats\\PSO.csv\", \"a\")\n",
    "# Elegir el número de ejecuciones:\n",
    "num_ejec = 20\n",
    "for _ in range(num_ejec):\n",
    "    optimizer = ps.discrete.binary.BinaryPSO(n_particles=SAMPLE_SIZE, dimensions=n, options=options)\n",
    "    cost, solution = optimizer.optimize(fitness_vertex_cover, iters=MAX_ITER)\n",
    "    fit = n - int(cost)\n",
    "    output.write(f'{solution},')\n",
    "    output.write(f'{fit}\\n')\n",
    "output.close()"
   ]
  },
  {
   "cell_type": "markdown",
   "metadata": {},
   "source": [
    "### Resultados de N ejecuciones de KNAPSACK"
   ]
  },
  {
   "cell_type": "code",
   "execution_count": null,
   "metadata": {},
   "outputs": [],
   "source": [
    "# Elegir la ruta donde guardar los resultados:\n",
    "output = open(r\"..\\results\\kn3\\PSO.csv\", \"a\")\n",
    "# Elegir el número de ejecuciones:\n",
    "num_ejec = 20\n",
    "for _ in range(num_ejec):\n",
    "    optimizer = ps.discrete.binary.BinaryPSO(n_particles=SAMPLE_SIZE, dimensions=n, options=options)\n",
    "    cost, solution = optimizer.optimize(fitness_knapsack, iters=MAX_ITER)\n",
    "    fit = - int(cost)\n",
    "    output.write(f'{solution},')\n",
    "    output.write(f'{fit}\\n')\n",
    "output.close()"
   ]
  }
 ],
 "metadata": {
  "language_info": {
   "name": "python"
  }
 },
 "nbformat": 4,
 "nbformat_minor": 2
}
