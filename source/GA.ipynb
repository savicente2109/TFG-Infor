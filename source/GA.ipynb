{
 "cells": [
  {
   "cell_type": "code",
   "execution_count": null,
   "metadata": {},
   "outputs": [],
   "source": [
    "import numpy as np\n",
    "import pygad"
   ]
  },
  {
   "cell_type": "markdown",
   "metadata": {},
   "source": [
    "### Variables globales del problema"
   ]
  },
  {
   "cell_type": "code",
   "execution_count": null,
   "metadata": {},
   "outputs": [],
   "source": [
    "# Para VERTEX COVER\n",
    "\n",
    "import networkx as nx\n",
    "#G = nx.read_edgelist(r\"..\\vertex_cover_benchmarks\\ENZYMES_g102.edges\", nodetype=int)\n",
    "#G = nx.read_edgelist(r\"..\\vertex_cover_benchmarks\\aves-sparrowlyon-flock-season2-unw.edges\", nodetype=int)\n",
    "#G = nx.read_edgelist(r\"..\\vertex_cover_benchmarks\\sparrow_unweighted.edges\", nodetype=int)\n",
    "G = nx.read_edgelist(r\"..\\vertex_cover_benchmarks\\cats.edges\", nodetype=int)\n",
    "n = G.order()"
   ]
  },
  {
   "cell_type": "code",
   "execution_count": null,
   "metadata": {},
   "outputs": [],
   "source": [
    "# Para KNAPSACK\n",
    "\n",
    "values = []\n",
    "weights = []\n",
    "\n",
    "with open(r\"..\\knapsack_benchmarks\\s004.kp\") as f:\n",
    "    n, W = [int(x) for x in next(f).split()] # read first line\n",
    "    for line in f: # read rest of lines\n",
    "        nums = line.split()\n",
    "        values.append(int(nums[0]))\n",
    "        weights.append(int(nums[1]))"
   ]
  },
  {
   "cell_type": "markdown",
   "metadata": {},
   "source": [
    "### Funciones de fitness"
   ]
  },
  {
   "cell_type": "code",
   "execution_count": null,
   "metadata": {},
   "outputs": [],
   "source": [
    "import random\n",
    "\n",
    "def is_cover(sol, G):\n",
    "    for u, v in G.edges():\n",
    "        if sol[u - 1] == 0 and sol[v - 1] == 0:\n",
    "            return False\n",
    "    return True\n",
    "\n",
    "def naive_cover(sol, G):\n",
    "    for u, v in G.edges():\n",
    "        if sol[u - 1] == 0 and sol[v - 1] == 0:\n",
    "            node = random.choice([u, v])\n",
    "            sol[node - 1] = 1\n",
    "    return\n",
    "\n",
    "def fitness_vertex_cover(sol):\n",
    "    n = G.order()\n",
    "    if not is_cover(sol, G):\n",
    "        naive_cover(sol, G)\n",
    "    return n - sum(sol)\n",
    "\n",
    "def fitness_knapsack(sol):\n",
    "    n = len(sol)\n",
    "    fit = 0\n",
    "    wei = 0\n",
    "    for i in range(n):\n",
    "        fit += values[i] * sol[i]\n",
    "        wei += weights[i] * sol[i]\n",
    "    while wei > W:\n",
    "        sacar = random.randrange(0, n)\n",
    "        wei -= weights[sacar] * sol[sacar]\n",
    "        fit -= values[sacar] * sol[sacar]\n",
    "        sol[sacar] = 0\n",
    "    return fit\n",
    "\n",
    "def fitness_func_vertex_cover(ga_instance, solution, solution_idx):\n",
    "    return fitness_vertex_cover(solution)\n",
    "\n",
    "def fitness_func_knapsack(ga_instance, solution, solution_idx):\n",
    "    return fitness_knapsack(solution)"
   ]
  },
  {
   "cell_type": "code",
   "execution_count": null,
   "metadata": {},
   "outputs": [],
   "source": [
    "# Hiperparámetros de GA\n",
    "\n",
    "num_generations = 1000\n",
    "num_parents_mating = 100\n",
    "\n",
    "gene_space = [0, 1]\n",
    "\n",
    "# Para VERTEX COVER:\n",
    "#fitness_function = fitness_func_vertex_cover\n",
    "# Para KNAPSACK:\n",
    "fitness_function = fitness_func_knapsack\n",
    "\n",
    "sol_per_pop = 100\n",
    "num_genes = n\n",
    "\n",
    "init_range_low = 0\n",
    "init_range_high = 1\n",
    "\n",
    "parent_selection_type = \"tournament\"\n",
    "keep_parents = 0\n",
    "keep_elitism = 5\n",
    "\n",
    "crossover_type = \"uniform\"\n",
    "crossover_probability = 0.7\n",
    "\n",
    "mutation_type = \"random\"\n",
    "mutation_probability = 0.1\n",
    "\n",
    "gene_type = int"
   ]
  },
  {
   "cell_type": "code",
   "execution_count": null,
   "metadata": {},
   "outputs": [],
   "source": [
    "# Mostrar los mejores resultados tras cada iteración\n",
    "def on_gen(ga_instance):\n",
    "    print(\"Generation: \", ga_instance.generations_completed)\n",
    "    print(\"Fitness of the best solution:\", ga_instance.best_solution()[1])\n",
    "\n",
    "# Función que crea una instancia de objeto pygad.GA\n",
    "def create_instance():\n",
    "    return pygad.GA(num_generations=num_generations,\n",
    "                       num_parents_mating=num_parents_mating,\n",
    "                       fitness_func=fitness_function,\n",
    "                       sol_per_pop=sol_per_pop,\n",
    "                       num_genes=num_genes,\n",
    "                       init_range_low=init_range_low,\n",
    "                       init_range_high=init_range_high,\n",
    "                       parent_selection_type=parent_selection_type,\n",
    "                       keep_parents=keep_parents,\n",
    "                       crossover_type=crossover_type,\n",
    "                       crossover_probability=crossover_probability,\n",
    "                       mutation_type=mutation_type,\n",
    "                       mutation_probability=mutation_probability,\n",
    "                       on_generation=on_gen,\n",
    "                       gene_type=gene_type,\n",
    "                       keep_elitism=keep_elitism,\n",
    "                       gene_space=gene_space)"
   ]
  },
  {
   "cell_type": "markdown",
   "metadata": {},
   "source": [
    "### N ejecuciones para VERTEX COVER O KNAPSACK"
   ]
  },
  {
   "cell_type": "code",
   "execution_count": null,
   "metadata": {},
   "outputs": [],
   "source": [
    "# Elegir la ruta donde guardar los resultados:\n",
    "output = open(r\"..\\results\\kn4\\GA.csv\", \"a\")\n",
    "# Elegir el número de ejecuciones:\n",
    "num_ejec = 20\n",
    "for _ in range(num_ejec):\n",
    "    ga_instance = create_instance()\n",
    "    ga_instance.run()\n",
    "    solution, solution_fitness, _ = ga_instance.best_solution()\n",
    "    output.write(f'{solution},')\n",
    "    output.write(f'{solution_fitness}\\n')\n",
    "output.close()"
   ]
  }
 ],
 "metadata": {
  "language_info": {
   "name": "python"
  }
 },
 "nbformat": 4,
 "nbformat_minor": 2
}
