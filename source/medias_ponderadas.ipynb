{
 "cells": [
  {
   "cell_type": "code",
   "execution_count": 2,
   "metadata": {},
   "outputs": [],
   "source": [
    "import numpy as np\n",
    "import random"
   ]
  },
  {
   "cell_type": "markdown",
   "metadata": {},
   "source": [
    "### Variables globales del problema"
   ]
  },
  {
   "cell_type": "code",
   "execution_count": null,
   "metadata": {},
   "outputs": [],
   "source": [
    "# VERTEX COVER - COBERTURA DE VÉRTICES\n",
    "\n",
    "import networkx as nx\n",
    "#G = nx.read_edgelist(r\"..\\vertex_cover_benchmarks\\ENZYMES_g102.edges\", nodetype=int)\n",
    "#G = nx.read_edgelist(r\"..\\vertex_cover_benchmarks\\aves-sparrowlyon-flock-season2-unw.edges\", nodetype=int)\n",
    "#G = nx.read_edgelist(\"brock200_1_complement.edges\", nodetype=int)\n",
    "#G = nx.read_edgelist(r\"..\\vertex_cover_benchmarks\\sparrow_unweighted.edges\", nodetype=int)\n",
    "G = nx.read_edgelist(r\"..\\vertex_cover_benchmarks\\cats.edges\", nodetype=int)\n",
    "n = G.order()"
   ]
  },
  {
   "cell_type": "code",
   "execution_count": 3,
   "metadata": {},
   "outputs": [],
   "source": [
    "# KNAPSACK - MOCHILA\n",
    "\n",
    "values = []\n",
    "weights = []\n",
    "\n",
    "with open(r\"..\\knapsack_benchmarks\\s000.kp\") as f:\n",
    "    n, W = [int(x) for x in next(f).split()]\n",
    "    for line in f:\n",
    "        nums = line.split()\n",
    "        values.append(int(nums[0]))\n",
    "        weights.append(int(nums[1]))\n",
    "\n",
    "sum_values = sum(values)"
   ]
  },
  {
   "cell_type": "markdown",
   "metadata": {},
   "source": [
    "### Parámetros"
   ]
  },
  {
   "cell_type": "code",
   "execution_count": 4,
   "metadata": {},
   "outputs": [],
   "source": [
    "MAX_FITNESS = 1\n",
    "MAX_ITER = 5000\n",
    "SAMPLE_SIZE = 100\n",
    "INITIAL_SAMPLE_SIZE = 300"
   ]
  },
  {
   "cell_type": "markdown",
   "metadata": {},
   "source": [
    "### Clase Solution"
   ]
  },
  {
   "cell_type": "code",
   "execution_count": 5,
   "metadata": {},
   "outputs": [],
   "source": [
    "class Solution:\n",
    "    def __init__(self, sol, f = 0):\n",
    "        self.sol = sol\n",
    "        self.f = f\n",
    "\n",
    "    def set_f(self, f):\n",
    "        self.f = f"
   ]
  },
  {
   "cell_type": "markdown",
   "metadata": {},
   "source": [
    "### Funciones auxiliares"
   ]
  },
  {
   "cell_type": "code",
   "execution_count": null,
   "metadata": {},
   "outputs": [],
   "source": [
    "def is_cover(sol, G):\n",
    "    for u, v in G.edges():\n",
    "        if sol[u - 1] == 0 and sol[v - 1] == 0:\n",
    "            return False\n",
    "    return True\n",
    "\n",
    "def naive_cover(sol, G):\n",
    "    for u, v in G.edges():\n",
    "        if sol[u - 1] == 0 and sol[v - 1] == 0:\n",
    "            node = random.choice([u, v])\n",
    "            sol[node - 1] = 1\n",
    "    return\n",
    "\n",
    "def fitness_vertex_cover(sol):\n",
    "    n = len(sol)\n",
    "    if not is_cover(sol, G):\n",
    "        naive_cover(sol, G)\n",
    "    return (n - sum(sol)) / sum(sol)"
   ]
  },
  {
   "cell_type": "code",
   "execution_count": 6,
   "metadata": {},
   "outputs": [],
   "source": [
    "def fitness_knapsack(sol):\n",
    "    n = len(sol)\n",
    "    fit = 0\n",
    "    wei = 0\n",
    "    for i in range(n):\n",
    "        fit += values[i] * sol[i]\n",
    "        wei += weights[i] * sol[i]\n",
    "    while wei > W:\n",
    "        sacar = random.randrange(0, n)\n",
    "        wei -= weights[sacar] * sol[sacar]\n",
    "        fit -= values[sacar] * sol[sacar]\n",
    "        sol[sacar] = 0\n",
    "    return fit / sum_values"
   ]
  },
  {
   "cell_type": "code",
   "execution_count": 7,
   "metadata": {},
   "outputs": [],
   "source": [
    "def f(sol, fitness_func):\n",
    "    fit = fitness_func(sol.sol)\n",
    "    sol.set_f(fit)\n",
    "    return fit"
   ]
  },
  {
   "cell_type": "code",
   "execution_count": 8,
   "metadata": {},
   "outputs": [],
   "source": [
    "def hamming_distance(sol1, sol2):\n",
    "    n = len(sol1)\n",
    "    assert(n == len(sol2))\n",
    "    return [sol1[i] == sol2[i] for i in range(n)].count(False) ** 3"
   ]
  },
  {
   "cell_type": "code",
   "execution_count": 9,
   "metadata": {},
   "outputs": [],
   "source": [
    "def inverse_distance(sol1, sol2, dist):\n",
    "    d = dist(sol1, sol2)\n",
    "    return 1 / d if d != 0 else 2 # Realmente la forma de manejar el infinito depende de la distancia\n",
    "# El 2 funciona para Hammings porque no puede haber distancias d 0 < d < 1 (es decir, tales que 1 / d > 2)."
   ]
  },
  {
   "cell_type": "code",
   "execution_count": 10,
   "metadata": {},
   "outputs": [],
   "source": [
    "def w(sol1, sol2, A, dist):\n",
    "    assert(len(sol1) == len(sol2))\n",
    "    sum = 0\n",
    "    for point in A:\n",
    "        sol = point.sol\n",
    "        assert(len(sol) == len(sol1))\n",
    "        sum += inverse_distance(sol1, sol, dist)\n",
    "    assert(sum > 0) # Creo que se puede demostrar que esto no va a ser 0.\n",
    "    inv = inverse_distance(sol1, sol2, dist)\n",
    "    res = inv / sum\n",
    "    return res\n",
    "\n",
    "def g(sol, A, dist):\n",
    "    sum = 0\n",
    "    for point in A:\n",
    "        wei = w(sol.sol, point.sol, A, dist)\n",
    "        fit = point.f\n",
    "        sum += wei * fit\n",
    "    return sum"
   ]
  },
  {
   "cell_type": "code",
   "execution_count": 11,
   "metadata": {},
   "outputs": [],
   "source": [
    "def search_optimal(A):\n",
    "    card = len(A)\n",
    "    assert(card > 0)\n",
    "    opt = A[0]\n",
    "    max_fit = opt.f\n",
    "    for elem in A[1:]:\n",
    "        fit = elem.f\n",
    "        if fit > max_fit:\n",
    "            max_fit = fit\n",
    "            opt = elem\n",
    "    return opt\n",
    "\n",
    "def search_nearest(sol, A, dist):\n",
    "    card = len(A)\n",
    "    assert(card > 0)\n",
    "    nearest = A[0]\n",
    "    min_distance = dist(sol.sol, nearest.sol)\n",
    "    for elem in A[1:]:\n",
    "        distance = dist(sol.sol, elem.sol)\n",
    "        if distance < min_distance:\n",
    "            min_distance = distance\n",
    "            nearest = elem\n",
    "    return nearest\n",
    "\n",
    "def search_2_nearest(sol, A, dist):\n",
    "    card = len(A)\n",
    "    assert(card > 1)\n",
    "    first_distance = dist(sol.sol, A[0].sol)\n",
    "    second_distance = dist(sol.sol, A[1].sol)\n",
    "    if first_distance > second_distance:\n",
    "        nearest = A[1]\n",
    "        second = A[0]\n",
    "        min_distance = second_distance\n",
    "        sec_min_distance = first_distance\n",
    "    else:\n",
    "        nearest = A[0]\n",
    "        second = A[1]\n",
    "        min_distance = first_distance\n",
    "        sec_min_distance = second_distance\n",
    "    for elem in A[2:]:\n",
    "        distance = dist(sol.sol, elem.sol)\n",
    "        if distance < sec_min_distance:\n",
    "            if distance < min_distance:\n",
    "                sec_min_distance = min_distance\n",
    "                min_distance = distance\n",
    "                second = nearest\n",
    "                nearest = elem\n",
    "            else:\n",
    "                sec_min_distance = distance\n",
    "                second = elem\n",
    "    return [nearest, second]"
   ]
  },
  {
   "cell_type": "markdown",
   "metadata": {},
   "source": [
    "### Lógica del algoritmo generalizado"
   ]
  },
  {
   "cell_type": "code",
   "execution_count": 12,
   "metadata": {},
   "outputs": [],
   "source": [
    "def sample(k, A, dist, dimension, fitness_func, skip = []):\n",
    "    sample = []\n",
    "    while len(sample) < k:\n",
    "        x = [random.choice([0, 1]) for _ in range(dimension)]\n",
    "        if x in sample or x in skip:\n",
    "            continue\n",
    "        y = random.uniform(0, MAX_FITNESS)\n",
    "        sol = Solution(x)\n",
    "\n",
    "        # Para GA:\n",
    "        set_points = search_2_nearest(sol, A, dist)\n",
    "\n",
    "        # Para PSO:\n",
    "        #set_points = [search_optimal(A), search_nearest(sol, A, dist)]\n",
    "\n",
    "        # Para híbrido GA+PSO:\n",
    "        #set_points = [search_optimal(A)] + search_2_nearest(sol, A, dist)\n",
    "\n",
    "        g_val = g(sol, set_points, dist)\n",
    "        if g_val > y:\n",
    "            f(sol, fitness_func)\n",
    "            sample.append(sol)\n",
    "    return sample\n",
    "\n",
    "def init(k, dimension, fitness_func):\n",
    "    init = []\n",
    "    while len(init) < k:\n",
    "        x = [random.choice([0, 1]) for _ in range(dimension)]\n",
    "        if not any(point.sol == x for point in init):\n",
    "            sol = Solution(x)\n",
    "            f(sol, fitness_func)\n",
    "            init.append(sol)\n",
    "    return init\n",
    "\n",
    "def max_f(A):\n",
    "    assert(len(A) > 0)\n",
    "    max_value = A[0].f\n",
    "    max_elem = A[0]\n",
    "    for elem in A[1:]:\n",
    "        fit = elem.f\n",
    "        if fit > max_value:\n",
    "            max_value = fit\n",
    "            max_elem = elem\n",
    "    return max_elem, max_value\n",
    "\n",
    "def next_swarm_step(k, A, dist, dimension, fitness_func):\n",
    "    opt = search_optimal(A)\n",
    "    next = sample(k - 1, A, dist, dimension, fitness_func, skip = A)\n",
    "    next.append(opt)\n",
    "    return next\n",
    "\n",
    "def algorithm(sample_size, num_iter, dist, dimension, fitness_func):\n",
    "    A = init(sample_size, dimension, fitness_func)\n",
    "    for i in range(num_iter):\n",
    "        A = next_swarm_step(sample_size, A, dist, dimension, fitness_func)\n",
    "    return max_f(A)"
   ]
  },
  {
   "cell_type": "code",
   "execution_count": 13,
   "metadata": {},
   "outputs": [
    {
     "name": "stdout",
     "output_type": "stream",
     "text": [
      "ejec 0\n",
      "18931\n",
      "ejec 1\n",
      "19042\n",
      "ejec 2\n",
      "19204\n",
      "ejec 3\n",
      "19110\n",
      "ejec 4\n",
      "19098\n",
      "ejec 5\n",
      "19025\n",
      "ejec 6\n",
      "19277\n",
      "ejec 7\n",
      "18819\n",
      "ejec 8\n",
      "19079\n",
      "ejec 9\n",
      "18846\n",
      "ejec 10\n",
      "19490\n",
      "ejec 11\n",
      "19106\n",
      "ejec 12\n",
      "19107\n",
      "ejec 13\n",
      "18927\n",
      "ejec 14\n",
      "19186\n",
      "ejec 15\n",
      "19609\n",
      "ejec 16\n",
      "18762\n",
      "ejec 17\n",
      "18884\n",
      "ejec 18\n",
      "19085\n",
      "ejec 19\n",
      "19452\n"
     ]
    }
   ],
   "source": [
    "output = open(r\"..\\results\\kn0\\medias_ponderadas_GA.csv\", \"a\")\n",
    "for i in range(20):\n",
    "    print(f\"ejec {i}\")\n",
    "    elem, _ = algorithm(sample_size = SAMPLE_SIZE, num_iter = MAX_ITER, dist = hamming_distance, dimension = n, fitness_func = fitness_knapsack)\n",
    "    output.write(f'{elem.sol},')\n",
    "    fit = 0\n",
    "    for i in range(n):\n",
    "        fit += values[i] * elem.sol[i]\n",
    "    #num_ceros = G.order() - sum(elem.sol)\n",
    "    print(fit)\n",
    "    output.write(f'{fit}\\n')\n",
    "output.close()"
   ]
  }
 ],
 "metadata": {
  "kernelspec": {
   "display_name": "Python 3",
   "language": "python",
   "name": "python3"
  },
  "language_info": {
   "codemirror_mode": {
    "name": "ipython",
    "version": 3
   },
   "file_extension": ".py",
   "mimetype": "text/x-python",
   "name": "python",
   "nbconvert_exporter": "python",
   "pygments_lexer": "ipython3",
   "version": "3.9.7"
  }
 },
 "nbformat": 4,
 "nbformat_minor": 2
}
