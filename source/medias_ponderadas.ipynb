{
 "cells": [
  {
   "cell_type": "code",
   "execution_count": 28,
   "metadata": {},
   "outputs": [],
   "source": [
    "import numpy as np\n",
    "import random"
   ]
  },
  {
   "cell_type": "markdown",
   "metadata": {},
   "source": [
    "### Variables globales del problema"
   ]
  },
  {
   "cell_type": "code",
   "execution_count": 40,
   "metadata": {},
   "outputs": [],
   "source": [
    "# VERTEX COVER - COBERTURA DE VÉRTICES\n",
    "\n",
    "import networkx as nx\n",
    "#G = nx.read_edgelist(r\"..\\vertex_cover_benchmarks\\ENZYMES_g102.edges\", nodetype=int)\n",
    "#G = nx.read_edgelist(r\"..\\vertex_cover_benchmarks\\aves-sparrowlyon-flock-season2-unw.edges\", nodetype=int)\n",
    "#G = nx.read_edgelist(\"brock200_1_complement.edges\", nodetype=int)\n",
    "G = nx.read_edgelist(r\"..\\vertex_cover_benchmarks\\sparrow_unweighted.edges\", nodetype=int)\n",
    "#G = nx.read_edgelist(r\"..\\vertex_cover_benchmarks\\cats.edges\", nodetype=int)\n",
    "n = G.order()"
   ]
  },
  {
   "cell_type": "code",
   "execution_count": 2,
   "metadata": {},
   "outputs": [],
   "source": [
    "# KNAPSACK - MOCHILA\n",
    "\n",
    "values = []\n",
    "weights = []\n",
    "\n",
    "with open(r\"..\\knapsack_benchmarks\\s003.kp\") as f:\n",
    "    n, W = [int(x) for x in next(f).split()]\n",
    "    for line in f:\n",
    "        nums = line.split()\n",
    "        values.append(int(nums[0]))\n",
    "        weights.append(int(nums[1]))\n",
    "\n",
    "sum_values = sum(values)"
   ]
  },
  {
   "cell_type": "markdown",
   "metadata": {},
   "source": [
    "### Parámetros"
   ]
  },
  {
   "cell_type": "code",
   "execution_count": 30,
   "metadata": {},
   "outputs": [],
   "source": [
    "MAX_FITNESS = 1\n",
    "MAX_ITER = 1000\n",
    "SAMPLE_SIZE = 100\n",
    "INITIAL_SAMPLE_SIZE = 300"
   ]
  },
  {
   "cell_type": "markdown",
   "metadata": {},
   "source": [
    "### Clase Solution"
   ]
  },
  {
   "cell_type": "code",
   "execution_count": 31,
   "metadata": {},
   "outputs": [],
   "source": [
    "class Solution:\n",
    "    def __init__(self, sol, f = 0):\n",
    "        self.sol = sol\n",
    "        self.f = f\n",
    "\n",
    "    def set_f(self, f):\n",
    "        self.f = f"
   ]
  },
  {
   "cell_type": "markdown",
   "metadata": {},
   "source": [
    "### Funciones auxiliares"
   ]
  },
  {
   "cell_type": "code",
   "execution_count": 32,
   "metadata": {},
   "outputs": [],
   "source": [
    "def is_cover(sol, G):\n",
    "    for u, v in G.edges():\n",
    "        if sol[u - 1] == 0 and sol[v - 1] == 0:\n",
    "            return False\n",
    "    return True\n",
    "\n",
    "def naive_cover(sol, G):\n",
    "    for u, v in G.edges():\n",
    "        if sol[u - 1] == 0 and sol[v - 1] == 0:\n",
    "            node = random.choice([u, v])\n",
    "            sol[node - 1] = 1\n",
    "    return\n",
    "\n",
    "def fitness_vertex_cover(sol):\n",
    "    n = len(sol)\n",
    "    if not is_cover(sol, G):\n",
    "        naive_cover(sol, G)\n",
    "    return (n - sum(sol)) / sum(sol)"
   ]
  },
  {
   "cell_type": "code",
   "execution_count": 5,
   "metadata": {},
   "outputs": [],
   "source": [
    "def fitness_knapsack(sol):\n",
    "    n = len(sol)\n",
    "    fit = 0\n",
    "    wei = 0\n",
    "    for i in range(n):\n",
    "        fit += values[i] * sol[i]\n",
    "        wei += weights[i] * sol[i]\n",
    "    while wei > W:\n",
    "        sacar = random.randrange(0, n)\n",
    "        wei -= weights[sacar] * sol[sacar]\n",
    "        fit -= values[sacar] * sol[sacar]\n",
    "        sol[sacar] = 0\n",
    "    return fit / sum_values"
   ]
  },
  {
   "cell_type": "code",
   "execution_count": 33,
   "metadata": {},
   "outputs": [],
   "source": [
    "def f(sol, fitness_func):\n",
    "    fit = fitness_func(sol.sol)\n",
    "    sol.set_f(fit)\n",
    "    return fit"
   ]
  },
  {
   "cell_type": "code",
   "execution_count": 34,
   "metadata": {},
   "outputs": [],
   "source": [
    "def hamming_distance(sol1, sol2):\n",
    "    n = len(sol1)\n",
    "    assert(n == len(sol2))\n",
    "    return [sol1[i] == sol2[i] for i in range(n)].count(False) ** 3"
   ]
  },
  {
   "cell_type": "code",
   "execution_count": 35,
   "metadata": {},
   "outputs": [],
   "source": [
    "def inverse_distance(sol1, sol2, dist):\n",
    "    d = dist(sol1, sol2)\n",
    "    return 1 / d if d != 0 else 2 # Realmente la forma de manejar el infinito depende de la distancia\n",
    "# El 2 funciona para Hammings porque no puede haber distancias d 0 < d < 1 (es decir, tales que 1 / d > 2)."
   ]
  },
  {
   "cell_type": "code",
   "execution_count": 36,
   "metadata": {},
   "outputs": [],
   "source": [
    "\"\"\"\n",
    "def w(sol1, sol2, A, dist):\n",
    "    assert(len(sol1) == len(sol2))\n",
    "    sum = 0\n",
    "    for point in A:\n",
    "        sol = point.sol\n",
    "        assert(len(sol) == len(sol1))\n",
    "        sum += inverse_distance(sol1, sol, dist)\n",
    "    assert(sum > 0) # Creo que se puede demostrar que esto no va a ser 0.\n",
    "    inv = inverse_distance(sol1, sol2, dist)\n",
    "    res = inv / sum\n",
    "    return res\n",
    "\"\"\"\n",
    "\n",
    "def normalization(sol, A, dist):\n",
    "    sum = 0\n",
    "    for point in A:\n",
    "        assert(len(sol.sol) == len(point.sol))\n",
    "        sum += inverse_distance(point.sol, sol.sol, dist)\n",
    "    return sum\n",
    "\n",
    "def g(sol, A, dist):\n",
    "    sum = 0\n",
    "    for point in A:\n",
    "        #wei = w(sol.sol, point.sol, A, dist)\n",
    "        wei = inverse_distance(sol.sol, point.sol, dist)\n",
    "        fit = point.f\n",
    "        sum += wei * fit\n",
    "    return sum / normalization(sol, A, dist)"
   ]
  },
  {
   "cell_type": "code",
   "execution_count": 37,
   "metadata": {},
   "outputs": [],
   "source": [
    "def search_optimal(A):\n",
    "    card = len(A)\n",
    "    assert(card > 0)\n",
    "    opt = A[0]\n",
    "    max_fit = opt.f\n",
    "    for elem in A[1:]:\n",
    "        fit = elem.f\n",
    "        if fit > max_fit:\n",
    "            max_fit = fit\n",
    "            opt = elem\n",
    "    return opt\n",
    "\n",
    "def search_nearest(sol, A, dist):\n",
    "    card = len(A)\n",
    "    assert(card > 0)\n",
    "    nearest = A[0]\n",
    "    min_distance = dist(sol.sol, nearest.sol)\n",
    "    for elem in A[1:]:\n",
    "        distance = dist(sol.sol, elem.sol)\n",
    "        if distance < min_distance:\n",
    "            min_distance = distance\n",
    "            nearest = elem\n",
    "    return nearest\n",
    "\n",
    "def search_2_nearest(sol, A, dist):\n",
    "    card = len(A)\n",
    "    assert(card > 1)\n",
    "    first_distance = dist(sol.sol, A[0].sol)\n",
    "    second_distance = dist(sol.sol, A[1].sol)\n",
    "    if first_distance > second_distance:\n",
    "        nearest = A[1]\n",
    "        second = A[0]\n",
    "        min_distance = second_distance\n",
    "        sec_min_distance = first_distance\n",
    "    else:\n",
    "        nearest = A[0]\n",
    "        second = A[1]\n",
    "        min_distance = first_distance\n",
    "        sec_min_distance = second_distance\n",
    "    for elem in A[2:]:\n",
    "        distance = dist(sol.sol, elem.sol)\n",
    "        if distance < sec_min_distance:\n",
    "            if distance < min_distance:\n",
    "                sec_min_distance = min_distance\n",
    "                min_distance = distance\n",
    "                second = nearest\n",
    "                nearest = elem\n",
    "            else:\n",
    "                sec_min_distance = distance\n",
    "                second = elem\n",
    "    return [nearest, second]"
   ]
  },
  {
   "cell_type": "markdown",
   "metadata": {},
   "source": [
    "### Lógica del algoritmo generalizado"
   ]
  },
  {
   "cell_type": "code",
   "execution_count": 38,
   "metadata": {},
   "outputs": [],
   "source": [
    "def sample(k, A, dist, dimension, fitness_func, skip = []):\n",
    "    sample = []\n",
    "    while len(sample) < k:\n",
    "        x = [random.choice([0, 1]) for _ in range(dimension)]\n",
    "        if x in sample or x in skip:\n",
    "            continue\n",
    "        y = random.uniform(0, MAX_FITNESS)\n",
    "        sol = Solution(x)\n",
    "\n",
    "        # Para GA:\n",
    "        #set_points = search_2_nearest(sol, A, dist)\n",
    "\n",
    "        # Para PSO:\n",
    "        #set_points = [search_optimal(A), search_nearest(sol, A, dist)]\n",
    "\n",
    "        # Para híbrido GA+PSO:\n",
    "        #set_points = [search_optimal(A)] + search_2_nearest(sol, A, dist)\n",
    "\n",
    "        # Para ACO:\n",
    "        set_points = A\n",
    "\n",
    "        g_val = g(sol, set_points, dist)\n",
    "        if g_val > y:\n",
    "            f(sol, fitness_func)\n",
    "            sample.append(sol)\n",
    "    return sample\n",
    "\n",
    "def init(k, dimension, fitness_func):\n",
    "    init = []\n",
    "    while len(init) < k:\n",
    "        x = [random.choice([0, 1]) for _ in range(dimension)]\n",
    "        if not any(point.sol == x for point in init):\n",
    "            sol = Solution(x)\n",
    "            f(sol, fitness_func)\n",
    "            init.append(sol)\n",
    "    return init\n",
    "\n",
    "def max_f(A):\n",
    "    assert(len(A) > 0)\n",
    "    max_value = A[0].f\n",
    "    max_elem = A[0]\n",
    "    for elem in A[1:]:\n",
    "        fit = elem.f\n",
    "        if fit > max_value:\n",
    "            max_value = fit\n",
    "            max_elem = elem\n",
    "    return max_elem, max_value\n",
    "\n",
    "def next_swarm_step(k, A, dist, dimension, fitness_func):\n",
    "    opt = search_optimal(A)\n",
    "    next = sample(k - 1, A, dist, dimension, fitness_func, skip = A)\n",
    "    next.append(opt)\n",
    "    return next\n",
    "\n",
    "def algorithm(sample_size, num_iter, dist, dimension, fitness_func):\n",
    "    A = init(sample_size, dimension, fitness_func)\n",
    "    for i in range(num_iter):\n",
    "        A = next_swarm_step(sample_size, A, dist, dimension, fitness_func)\n",
    "    return max_f(A)"
   ]
  },
  {
   "cell_type": "code",
   "execution_count": 41,
   "metadata": {},
   "outputs": [
    {
     "name": "stdout",
     "output_type": "stream",
     "text": [
      "ejec 0\n",
      "10\n",
      "ejec 1\n",
      "10\n",
      "ejec 2\n",
      "10\n",
      "ejec 3\n",
      "10\n",
      "ejec 4\n",
      "10\n",
      "ejec 5\n",
      "10\n",
      "ejec 6\n",
      "10\n",
      "ejec 7\n",
      "10\n",
      "ejec 8\n",
      "10\n",
      "ejec 9\n",
      "10\n",
      "ejec 10\n",
      "10\n",
      "ejec 11\n",
      "10\n",
      "ejec 12\n",
      "10\n",
      "ejec 13\n",
      "10\n",
      "ejec 14\n",
      "10\n",
      "ejec 15\n",
      "10\n",
      "ejec 16\n",
      "10\n",
      "ejec 17\n",
      "10\n",
      "ejec 18\n",
      "10\n",
      "ejec 19\n",
      "10\n"
     ]
    }
   ],
   "source": [
    "output = open(r\"..\\results\\sparrow\\medias_ponderadas_ACO.csv\", \"a\")\n",
    "for i in range(20):\n",
    "    print(f\"ejec {i}\")\n",
    "    elem, _ = algorithm(sample_size = SAMPLE_SIZE, num_iter = MAX_ITER, dist = hamming_distance, dimension = n, fitness_func = fitness_vertex_cover)\n",
    "    output.write(f'{elem.sol},')\n",
    "    num_ceros = G.order() - sum(elem.sol)\n",
    "    print(num_ceros)\n",
    "    output.write(f'{num_ceros}\\n')\n",
    "output.close()"
   ]
  },
  {
   "cell_type": "code",
   "execution_count": 42,
   "metadata": {},
   "outputs": [
    {
     "name": "stdout",
     "output_type": "stream",
     "text": [
      "ejec 0\n"
     ]
    },
    {
     "ename": "IndexError",
     "evalue": "list index out of range",
     "output_type": "error",
     "traceback": [
      "\u001b[1;31m---------------------------------------------------------------------------\u001b[0m",
      "\u001b[1;31mIndexError\u001b[0m                                Traceback (most recent call last)",
      "Cell \u001b[1;32mIn [42], line 6\u001b[0m\n\u001b[0;32m      4\u001b[0m \u001b[38;5;28;01mfor\u001b[39;00m i \u001b[38;5;129;01min\u001b[39;00m \u001b[38;5;28mrange\u001b[39m(\u001b[38;5;241m20\u001b[39m):\n\u001b[0;32m      5\u001b[0m     \u001b[38;5;28mprint\u001b[39m(\u001b[38;5;124mf\u001b[39m\u001b[38;5;124m\"\u001b[39m\u001b[38;5;124mejec \u001b[39m\u001b[38;5;132;01m{\u001b[39;00mi\u001b[38;5;132;01m}\u001b[39;00m\u001b[38;5;124m\"\u001b[39m)\n\u001b[1;32m----> 6\u001b[0m     elem, _ \u001b[38;5;241m=\u001b[39m algorithm(sample_size \u001b[38;5;241m=\u001b[39m SAMPLE_SIZE, num_iter \u001b[38;5;241m=\u001b[39m MAX_ITER, dist \u001b[38;5;241m=\u001b[39m hamming_distance, dimension \u001b[38;5;241m=\u001b[39m n, fitness_func \u001b[38;5;241m=\u001b[39m fitness_vertex_cover)\n\u001b[0;32m      7\u001b[0m     output\u001b[38;5;241m.\u001b[39mwrite(\u001b[38;5;124mf\u001b[39m\u001b[38;5;124m'\u001b[39m\u001b[38;5;132;01m{\u001b[39;00melem\u001b[38;5;241m.\u001b[39msol\u001b[38;5;132;01m}\u001b[39;00m\u001b[38;5;124m,\u001b[39m\u001b[38;5;124m'\u001b[39m)\n\u001b[0;32m      8\u001b[0m     num_ceros \u001b[38;5;241m=\u001b[39m G\u001b[38;5;241m.\u001b[39morder() \u001b[38;5;241m-\u001b[39m \u001b[38;5;28msum\u001b[39m(elem\u001b[38;5;241m.\u001b[39msol)\n",
      "Cell \u001b[1;32mIn [38], line 56\u001b[0m, in \u001b[0;36malgorithm\u001b[1;34m(sample_size, num_iter, dist, dimension, fitness_func)\u001b[0m\n\u001b[0;32m     55\u001b[0m \u001b[38;5;28;01mdef\u001b[39;00m \u001b[38;5;21malgorithm\u001b[39m(sample_size, num_iter, dist, dimension, fitness_func):\n\u001b[1;32m---> 56\u001b[0m     A \u001b[38;5;241m=\u001b[39m \u001b[43minit\u001b[49m\u001b[43m(\u001b[49m\u001b[43msample_size\u001b[49m\u001b[43m,\u001b[49m\u001b[43m \u001b[49m\u001b[43mdimension\u001b[49m\u001b[43m,\u001b[49m\u001b[43m \u001b[49m\u001b[43mfitness_func\u001b[49m\u001b[43m)\u001b[49m\n\u001b[0;32m     57\u001b[0m     \u001b[38;5;28;01mfor\u001b[39;00m i \u001b[38;5;129;01min\u001b[39;00m \u001b[38;5;28mrange\u001b[39m(num_iter):\n\u001b[0;32m     58\u001b[0m         A \u001b[38;5;241m=\u001b[39m next_swarm_step(sample_size, A, dist, dimension, fitness_func)\n",
      "Cell \u001b[1;32mIn [38], line 34\u001b[0m, in \u001b[0;36minit\u001b[1;34m(k, dimension, fitness_func)\u001b[0m\n\u001b[0;32m     32\u001b[0m     \u001b[38;5;28;01mif\u001b[39;00m \u001b[38;5;129;01mnot\u001b[39;00m \u001b[38;5;28many\u001b[39m(point\u001b[38;5;241m.\u001b[39msol \u001b[38;5;241m==\u001b[39m x \u001b[38;5;28;01mfor\u001b[39;00m point \u001b[38;5;129;01min\u001b[39;00m init):\n\u001b[0;32m     33\u001b[0m         sol \u001b[38;5;241m=\u001b[39m Solution(x)\n\u001b[1;32m---> 34\u001b[0m         \u001b[43mf\u001b[49m\u001b[43m(\u001b[49m\u001b[43msol\u001b[49m\u001b[43m,\u001b[49m\u001b[43m \u001b[49m\u001b[43mfitness_func\u001b[49m\u001b[43m)\u001b[49m\n\u001b[0;32m     35\u001b[0m         init\u001b[38;5;241m.\u001b[39mappend(sol)\n\u001b[0;32m     36\u001b[0m \u001b[38;5;28;01mreturn\u001b[39;00m init\n",
      "Cell \u001b[1;32mIn [33], line 2\u001b[0m, in \u001b[0;36mf\u001b[1;34m(sol, fitness_func)\u001b[0m\n\u001b[0;32m      1\u001b[0m \u001b[38;5;28;01mdef\u001b[39;00m \u001b[38;5;21mf\u001b[39m(sol, fitness_func):\n\u001b[1;32m----> 2\u001b[0m     fit \u001b[38;5;241m=\u001b[39m \u001b[43mfitness_func\u001b[49m\u001b[43m(\u001b[49m\u001b[43msol\u001b[49m\u001b[38;5;241;43m.\u001b[39;49m\u001b[43msol\u001b[49m\u001b[43m)\u001b[49m\n\u001b[0;32m      3\u001b[0m     sol\u001b[38;5;241m.\u001b[39mset_f(fit)\n\u001b[0;32m      4\u001b[0m     \u001b[38;5;28;01mreturn\u001b[39;00m fit\n",
      "Cell \u001b[1;32mIn [32], line 16\u001b[0m, in \u001b[0;36mfitness_vertex_cover\u001b[1;34m(sol)\u001b[0m\n\u001b[0;32m     14\u001b[0m \u001b[38;5;28;01mdef\u001b[39;00m \u001b[38;5;21mfitness_vertex_cover\u001b[39m(sol):\n\u001b[0;32m     15\u001b[0m     n \u001b[38;5;241m=\u001b[39m \u001b[38;5;28mlen\u001b[39m(sol)\n\u001b[1;32m---> 16\u001b[0m     \u001b[38;5;28;01mif\u001b[39;00m \u001b[38;5;129;01mnot\u001b[39;00m \u001b[43mis_cover\u001b[49m\u001b[43m(\u001b[49m\u001b[43msol\u001b[49m\u001b[43m,\u001b[49m\u001b[43m \u001b[49m\u001b[43mG\u001b[49m\u001b[43m)\u001b[49m:\n\u001b[0;32m     17\u001b[0m         naive_cover(sol, G)\n\u001b[0;32m     18\u001b[0m     \u001b[38;5;28;01mreturn\u001b[39;00m (n \u001b[38;5;241m-\u001b[39m \u001b[38;5;28msum\u001b[39m(sol)) \u001b[38;5;241m/\u001b[39m \u001b[38;5;28msum\u001b[39m(sol)\n",
      "Cell \u001b[1;32mIn [32], line 3\u001b[0m, in \u001b[0;36mis_cover\u001b[1;34m(sol, G)\u001b[0m\n\u001b[0;32m      1\u001b[0m \u001b[38;5;28;01mdef\u001b[39;00m \u001b[38;5;21mis_cover\u001b[39m(sol, G):\n\u001b[0;32m      2\u001b[0m     \u001b[38;5;28;01mfor\u001b[39;00m u, v \u001b[38;5;129;01min\u001b[39;00m G\u001b[38;5;241m.\u001b[39medges():\n\u001b[1;32m----> 3\u001b[0m         \u001b[38;5;28;01mif\u001b[39;00m \u001b[43msol\u001b[49m\u001b[43m[\u001b[49m\u001b[43mu\u001b[49m\u001b[43m \u001b[49m\u001b[38;5;241;43m-\u001b[39;49m\u001b[43m \u001b[49m\u001b[38;5;241;43m1\u001b[39;49m\u001b[43m]\u001b[49m \u001b[38;5;241m==\u001b[39m \u001b[38;5;241m0\u001b[39m \u001b[38;5;129;01mand\u001b[39;00m sol[v \u001b[38;5;241m-\u001b[39m \u001b[38;5;241m1\u001b[39m] \u001b[38;5;241m==\u001b[39m \u001b[38;5;241m0\u001b[39m:\n\u001b[0;32m      4\u001b[0m             \u001b[38;5;28;01mreturn\u001b[39;00m \u001b[38;5;28;01mFalse\u001b[39;00m\n\u001b[0;32m      5\u001b[0m     \u001b[38;5;28;01mreturn\u001b[39;00m \u001b[38;5;28;01mTrue\u001b[39;00m\n",
      "\u001b[1;31mIndexError\u001b[0m: list index out of range"
     ]
    }
   ],
   "source": [
    "G = nx.read_edgelist(r\"..\\vertex_cover_benchmarks\\aves-sparrowlyon-flock-season2-unw.edges\", nodetype=int)\n",
    "\n",
    "output = open(r\"..\\results\\sparrowlyon\\medias_ponderadas_ACO.csv\", \"a\")\n",
    "for i in range(20):\n",
    "    print(f\"ejec {i}\")\n",
    "    elem, _ = algorithm(sample_size = SAMPLE_SIZE, num_iter = MAX_ITER, dist = hamming_distance, dimension = n, fitness_func = fitness_vertex_cover)\n",
    "    output.write(f'{elem.sol},')\n",
    "    num_ceros = G.order() - sum(elem.sol)\n",
    "    print(num_ceros)\n",
    "    output.write(f'{num_ceros}\\n')\n",
    "output.close()\n",
    "\n",
    "G = nx.read_edgelist(r\"..\\vertex_cover_benchmarks\\cats.edges\", nodetype=int)\n",
    "\n",
    "output = open(r\"..\\results\\cats\\medias_ponderadas_ACO.csv\", \"a\")\n",
    "for i in range(20):\n",
    "    print(f\"ejec {i}\")\n",
    "    elem, _ = algorithm(sample_size = SAMPLE_SIZE, num_iter = MAX_ITER, dist = hamming_distance, dimension = n, fitness_func = fitness_vertex_cover)\n",
    "    output.write(f'{elem.sol},')\n",
    "    num_ceros = G.order() - sum(elem.sol)\n",
    "    print(num_ceros)\n",
    "    output.write(f'{num_ceros}\\n')\n",
    "output.close()"
   ]
  },
  {
   "cell_type": "code",
   "execution_count": 26,
   "metadata": {},
   "outputs": [
    {
     "name": "stdout",
     "output_type": "stream",
     "text": [
      "ejec 0\n",
      "13471\n",
      "ejec 1\n",
      "13903\n",
      "ejec 2\n",
      "13391\n",
      "ejec 3\n",
      "14651\n",
      "ejec 4\n"
     ]
    },
    {
     "ename": "KeyboardInterrupt",
     "evalue": "",
     "output_type": "error",
     "traceback": [
      "\u001b[1;31m---------------------------------------------------------------------------\u001b[0m",
      "\u001b[1;31mKeyboardInterrupt\u001b[0m                         Traceback (most recent call last)",
      "Cell \u001b[1;32mIn [26], line 4\u001b[0m\n\u001b[0;32m      2\u001b[0m \u001b[38;5;28;01mfor\u001b[39;00m i \u001b[38;5;129;01min\u001b[39;00m \u001b[38;5;28mrange\u001b[39m(\u001b[38;5;241m20\u001b[39m):\n\u001b[0;32m      3\u001b[0m     \u001b[38;5;28mprint\u001b[39m(\u001b[38;5;124mf\u001b[39m\u001b[38;5;124m\"\u001b[39m\u001b[38;5;124mejec \u001b[39m\u001b[38;5;132;01m{\u001b[39;00mi\u001b[38;5;132;01m}\u001b[39;00m\u001b[38;5;124m\"\u001b[39m)\n\u001b[1;32m----> 4\u001b[0m     elem, _ \u001b[38;5;241m=\u001b[39m algorithm(sample_size \u001b[38;5;241m=\u001b[39m SAMPLE_SIZE, num_iter \u001b[38;5;241m=\u001b[39m MAX_ITER, dist \u001b[38;5;241m=\u001b[39m hamming_distance, dimension \u001b[38;5;241m=\u001b[39m n, fitness_func \u001b[38;5;241m=\u001b[39m fitness_vertex_cover)\n\u001b[0;32m      5\u001b[0m     output\u001b[38;5;241m.\u001b[39mwrite(\u001b[38;5;124mf\u001b[39m\u001b[38;5;124m'\u001b[39m\u001b[38;5;132;01m{\u001b[39;00melem\u001b[38;5;241m.\u001b[39msol\u001b[38;5;132;01m}\u001b[39;00m\u001b[38;5;124m,\u001b[39m\u001b[38;5;124m'\u001b[39m)\n\u001b[0;32m      6\u001b[0m     fit \u001b[38;5;241m=\u001b[39m \u001b[38;5;241m0\u001b[39m\n",
      "Cell \u001b[1;32mIn [22], line 58\u001b[0m, in \u001b[0;36malgorithm\u001b[1;34m(sample_size, num_iter, dist, dimension, fitness_func)\u001b[0m\n\u001b[0;32m     56\u001b[0m A \u001b[38;5;241m=\u001b[39m init(sample_size, dimension, fitness_func)\n\u001b[0;32m     57\u001b[0m \u001b[38;5;28;01mfor\u001b[39;00m i \u001b[38;5;129;01min\u001b[39;00m \u001b[38;5;28mrange\u001b[39m(num_iter):\n\u001b[1;32m---> 58\u001b[0m     A \u001b[38;5;241m=\u001b[39m \u001b[43mnext_swarm_step\u001b[49m\u001b[43m(\u001b[49m\u001b[43msample_size\u001b[49m\u001b[43m,\u001b[49m\u001b[43m \u001b[49m\u001b[43mA\u001b[49m\u001b[43m,\u001b[49m\u001b[43m \u001b[49m\u001b[43mdist\u001b[49m\u001b[43m,\u001b[49m\u001b[43m \u001b[49m\u001b[43mdimension\u001b[49m\u001b[43m,\u001b[49m\u001b[43m \u001b[49m\u001b[43mfitness_func\u001b[49m\u001b[43m)\u001b[49m\n\u001b[0;32m     59\u001b[0m \u001b[38;5;28;01mreturn\u001b[39;00m max_f(A)\n",
      "Cell \u001b[1;32mIn [22], line 51\u001b[0m, in \u001b[0;36mnext_swarm_step\u001b[1;34m(k, A, dist, dimension, fitness_func)\u001b[0m\n\u001b[0;32m     49\u001b[0m \u001b[38;5;28;01mdef\u001b[39;00m \u001b[38;5;21mnext_swarm_step\u001b[39m(k, A, dist, dimension, fitness_func):\n\u001b[0;32m     50\u001b[0m     opt \u001b[38;5;241m=\u001b[39m search_optimal(A)\n\u001b[1;32m---> 51\u001b[0m     \u001b[38;5;28mnext\u001b[39m \u001b[38;5;241m=\u001b[39m \u001b[43msample\u001b[49m\u001b[43m(\u001b[49m\u001b[43mk\u001b[49m\u001b[43m \u001b[49m\u001b[38;5;241;43m-\u001b[39;49m\u001b[43m \u001b[49m\u001b[38;5;241;43m1\u001b[39;49m\u001b[43m,\u001b[49m\u001b[43m \u001b[49m\u001b[43mA\u001b[49m\u001b[43m,\u001b[49m\u001b[43m \u001b[49m\u001b[43mdist\u001b[49m\u001b[43m,\u001b[49m\u001b[43m \u001b[49m\u001b[43mdimension\u001b[49m\u001b[43m,\u001b[49m\u001b[43m \u001b[49m\u001b[43mfitness_func\u001b[49m\u001b[43m,\u001b[49m\u001b[43m \u001b[49m\u001b[43mskip\u001b[49m\u001b[43m \u001b[49m\u001b[38;5;241;43m=\u001b[39;49m\u001b[43m \u001b[49m\u001b[43mA\u001b[49m\u001b[43m)\u001b[49m\n\u001b[0;32m     52\u001b[0m     \u001b[38;5;28mnext\u001b[39m\u001b[38;5;241m.\u001b[39mappend(opt)\n\u001b[0;32m     53\u001b[0m     \u001b[38;5;28;01mreturn\u001b[39;00m \u001b[38;5;28mnext\u001b[39m\n",
      "Cell \u001b[1;32mIn [22], line 22\u001b[0m, in \u001b[0;36msample\u001b[1;34m(k, A, dist, dimension, fitness_func, skip)\u001b[0m\n\u001b[0;32m     10\u001b[0m \u001b[38;5;66;03m# Para GA:\u001b[39;00m\n\u001b[0;32m     11\u001b[0m \u001b[38;5;66;03m#set_points = search_2_nearest(sol, A, dist)\u001b[39;00m\n\u001b[0;32m     12\u001b[0m \n\u001b[1;32m   (...)\u001b[0m\n\u001b[0;32m     18\u001b[0m \n\u001b[0;32m     19\u001b[0m \u001b[38;5;66;03m# Para ACO:\u001b[39;00m\n\u001b[0;32m     20\u001b[0m set_points \u001b[38;5;241m=\u001b[39m A\n\u001b[1;32m---> 22\u001b[0m g_val \u001b[38;5;241m=\u001b[39m \u001b[43mg\u001b[49m\u001b[43m(\u001b[49m\u001b[43msol\u001b[49m\u001b[43m,\u001b[49m\u001b[43m \u001b[49m\u001b[43mset_points\u001b[49m\u001b[43m,\u001b[49m\u001b[43m \u001b[49m\u001b[43mdist\u001b[49m\u001b[43m)\u001b[49m\n\u001b[0;32m     23\u001b[0m \u001b[38;5;28;01mif\u001b[39;00m g_val \u001b[38;5;241m>\u001b[39m y:\n\u001b[0;32m     24\u001b[0m     f(sol, fitness_func)\n",
      "Cell \u001b[1;32mIn [24], line 29\u001b[0m, in \u001b[0;36mg\u001b[1;34m(sol, A, dist)\u001b[0m\n\u001b[0;32m     27\u001b[0m     fit \u001b[38;5;241m=\u001b[39m point\u001b[38;5;241m.\u001b[39mf\n\u001b[0;32m     28\u001b[0m     \u001b[38;5;28msum\u001b[39m \u001b[38;5;241m+\u001b[39m\u001b[38;5;241m=\u001b[39m wei \u001b[38;5;241m*\u001b[39m fit\n\u001b[1;32m---> 29\u001b[0m \u001b[38;5;28;01mreturn\u001b[39;00m \u001b[38;5;28msum\u001b[39m \u001b[38;5;241m/\u001b[39m \u001b[43mnormalization\u001b[49m\u001b[43m(\u001b[49m\u001b[43msol\u001b[49m\u001b[43m,\u001b[49m\u001b[43m \u001b[49m\u001b[43mA\u001b[49m\u001b[43m,\u001b[49m\u001b[43m \u001b[49m\u001b[43mdist\u001b[49m\u001b[43m)\u001b[49m\n",
      "Cell \u001b[1;32mIn [24], line 19\u001b[0m, in \u001b[0;36mnormalization\u001b[1;34m(sol, A, dist)\u001b[0m\n\u001b[0;32m     17\u001b[0m \u001b[38;5;28;01mfor\u001b[39;00m point \u001b[38;5;129;01min\u001b[39;00m A:\n\u001b[0;32m     18\u001b[0m     \u001b[38;5;28;01massert\u001b[39;00m(\u001b[38;5;28mlen\u001b[39m(sol\u001b[38;5;241m.\u001b[39msol) \u001b[38;5;241m==\u001b[39m \u001b[38;5;28mlen\u001b[39m(point\u001b[38;5;241m.\u001b[39msol))\n\u001b[1;32m---> 19\u001b[0m     \u001b[38;5;28msum\u001b[39m \u001b[38;5;241m+\u001b[39m\u001b[38;5;241m=\u001b[39m \u001b[43minverse_distance\u001b[49m\u001b[43m(\u001b[49m\u001b[43mpoint\u001b[49m\u001b[38;5;241;43m.\u001b[39;49m\u001b[43msol\u001b[49m\u001b[43m,\u001b[49m\u001b[43m \u001b[49m\u001b[43msol\u001b[49m\u001b[38;5;241;43m.\u001b[39;49m\u001b[43msol\u001b[49m\u001b[43m,\u001b[49m\u001b[43m \u001b[49m\u001b[43mdist\u001b[49m\u001b[43m)\u001b[49m\n\u001b[0;32m     20\u001b[0m \u001b[38;5;28;01mreturn\u001b[39;00m \u001b[38;5;28msum\u001b[39m\n",
      "Cell \u001b[1;32mIn [19], line 2\u001b[0m, in \u001b[0;36minverse_distance\u001b[1;34m(sol1, sol2, dist)\u001b[0m\n\u001b[0;32m      1\u001b[0m \u001b[38;5;28;01mdef\u001b[39;00m \u001b[38;5;21minverse_distance\u001b[39m(sol1, sol2, dist):\n\u001b[1;32m----> 2\u001b[0m     d \u001b[38;5;241m=\u001b[39m \u001b[43mdist\u001b[49m\u001b[43m(\u001b[49m\u001b[43msol1\u001b[49m\u001b[43m,\u001b[49m\u001b[43m \u001b[49m\u001b[43msol2\u001b[49m\u001b[43m)\u001b[49m\n\u001b[0;32m      3\u001b[0m     \u001b[38;5;28;01mreturn\u001b[39;00m \u001b[38;5;241m1\u001b[39m \u001b[38;5;241m/\u001b[39m d \u001b[38;5;28;01mif\u001b[39;00m d \u001b[38;5;241m!=\u001b[39m \u001b[38;5;241m0\u001b[39m \u001b[38;5;28;01melse\u001b[39;00m \u001b[38;5;241m2\u001b[39m\n",
      "\u001b[1;31mKeyboardInterrupt\u001b[0m: "
     ]
    }
   ],
   "source": [
    "output = open(r\"..\\results\\kn0\\medias_ponderadas_ACO.csv\", \"a\")\n",
    "for i in range(20):\n",
    "    print(f\"ejec {i}\")\n",
    "    elem, _ = algorithm(sample_size = SAMPLE_SIZE, num_iter = MAX_ITER, dist = hamming_distance, dimension = n, fitness_func = fitness_knapsack)\n",
    "    output.write(f'{elem.sol},')\n",
    "    fit = 0\n",
    "    for i in range(n):\n",
    "        fit += values[i] * elem.sol[i]\n",
    "    #num_ceros = G.order() - sum(elem.sol)\n",
    "    print(fit)\n",
    "    output.write(f'{fit}\\n')\n",
    "output.close()"
   ]
  }
 ],
 "metadata": {
  "kernelspec": {
   "display_name": "Python 3",
   "language": "python",
   "name": "python3"
  },
  "language_info": {
   "codemirror_mode": {
    "name": "ipython",
    "version": 3
   },
   "file_extension": ".py",
   "mimetype": "text/x-python",
   "name": "python",
   "nbconvert_exporter": "python",
   "pygments_lexer": "ipython3",
   "version": "3.9.7"
  }
 },
 "nbformat": 4,
 "nbformat_minor": 2
}
